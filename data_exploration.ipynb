{
  "nbformat": 4,
  "nbformat_minor": 0,
  "metadata": {
    "kernelspec": {
      "display_name": "Python 3",
      "language": "python",
      "name": "python3"
    },
    "language_info": {
      "codemirror_mode": {
        "name": "ipython",
        "version": 3
      },
      "file_extension": ".py",
      "mimetype": "text/x-python",
      "name": "python",
      "nbconvert_exporter": "python",
      "pygments_lexer": "ipython3",
      "version": "3.6.5"
    },
    "colab": {
      "name": "data_exploration.ipynb",
      "provenance": [],
      "collapsed_sections": []
    }
  },
  "cells": [
    {
      "cell_type": "code",
      "metadata": {
        "id": "TpXsFLiC5AWs",
        "colab_type": "code",
        "outputId": "5988eb7f-f073-442a-bd82-71c2b2ce4167",
        "colab": {
          "base_uri": "https://localhost:8080/",
          "height": 34
        }
      },
      "source": [
        "!git clone https://github.com/aim-hackathon-2020/pump_prediction.git"
      ],
      "execution_count": 1,
      "outputs": [
        {
          "output_type": "stream",
          "text": [
            "fatal: destination path 'pump_prediction' already exists and is not an empty directory.\n"
          ],
          "name": "stdout"
        }
      ]
    },
    {
      "cell_type": "markdown",
      "metadata": {
        "id": "vxyYIcPNH2vO",
        "colab_type": "text"
      },
      "source": [
        "\n",
        "### Problem Solving Strategy\n",
        "\n",
        "The ideal machine learning project involves general flow analysis stages for building a Predictive Model. Steps followed to perform data analysis:\n",
        "\n",
        "    Understanding the problem domain\n",
        "    Data Exploration and Preparation\n",
        "    Feature Engineering\n",
        "    Dimensionality Reduction (or Feature Selection)\n",
        "    Various Model Evaluation and\n",
        "    Hyper-parameter Tuning\n",
        "    Ensembling: Model Selection\n",
        "\n"
      ]
    },
    {
      "cell_type": "markdown",
      "metadata": {
        "id": "RfQW2h4xIPzY",
        "colab_type": "text"
      },
      "source": [
        "## STEP 1. Understanding the problem domain\n",
        "\n",
        "**[Taarifa](https://www.drivendata.org/competitions/7/pump-it-up-data-mining-the-water-table/page/24/)** is an open source platform for the crowd sourced reporting and triaging of infrastructure related issues. The data for this comeptition comes from the Taarifa waterpoints dashboard, which aggregates data from the Tanzania Ministry of Water.\n",
        "\n",
        "**Question:** why not a model to predict if a pump is functional, non-functional, Needs repair based on given parameters?\n",
        "\n",
        "**List of possible predicting factors:**\n",
        "\n",
        "*   **Water Source, Quality and the Cost:** What is the water source, water quality, and the water cost?\n",
        "\n",
        "*   **Consumer Population, Funder and Pump Management:**\n",
        "    Does it have consumer population enough to get funded?\n",
        "    Who's funding pump project, management?\n",
        "\n",
        "*   **Pump Details:**\n",
        "     What type of pump and its features(construction year, extraction type, water point type ...)? How does the geographic location of the pump infect the status?"
      ]
    },
    {
      "cell_type": "markdown",
      "metadata": {
        "id": "r-SYJE6WK8x9",
        "colab_type": "text"
      },
      "source": [
        "## STEP 2. Data Exploration and Preparation\n",
        "\n",
        "Verified Individual Column values"
      ]
    },
    {
      "cell_type": "code",
      "metadata": {
        "id": "CLbCFReF45bc",
        "colab_type": "code",
        "colab": {}
      },
      "source": [
        "import pandas as pd\n",
        "import numpy as np\n",
        "import matplotlib.pyplot as plt\n",
        "import seaborn as sns\n",
        "from sklearn.preprocessing import MinMaxScaler"
      ],
      "execution_count": 0,
      "outputs": []
    },
    {
      "cell_type": "code",
      "metadata": {
        "id": "18Xvgr5v7LE4",
        "colab_type": "code",
        "outputId": "a1709d5c-086c-4f0a-d95d-8de35e6d3c36",
        "colab": {
          "base_uri": "https://localhost:8080/",
          "height": 450
        }
      },
      "source": [
        "data_labels=pd.read_csv('/content/pump_prediction/data/training_set_values.csv')\n",
        "data_values=pd.read_csv('/content/pump_prediction/data/training_set_labels.csv')\n",
        "data_test=pd.read_csv('/content/pump_prediction/data/test_set_values.csv')\n",
        "data = data_values.merge(data_labels, on='id')\n",
        "print(\"Number of Given Records:\", data.shape[0])\n",
        "print(\"Number of Given Features:\", data.shape[1])\n",
        "print(\"Test Set Shape: \", data_test.shape)\n",
        "data.head()"
      ],
      "execution_count": 3,
      "outputs": [
        {
          "output_type": "stream",
          "text": [
            "Number of Given Records: 59400\n",
            "Number of Given Features: 41\n",
            "Test Set Shape:  (14850, 40)\n"
          ],
          "name": "stdout"
        },
        {
          "output_type": "execute_result",
          "data": {
            "text/html": [
              "<div>\n",
              "<style scoped>\n",
              "    .dataframe tbody tr th:only-of-type {\n",
              "        vertical-align: middle;\n",
              "    }\n",
              "\n",
              "    .dataframe tbody tr th {\n",
              "        vertical-align: top;\n",
              "    }\n",
              "\n",
              "    .dataframe thead th {\n",
              "        text-align: right;\n",
              "    }\n",
              "</style>\n",
              "<table border=\"1\" class=\"dataframe\">\n",
              "  <thead>\n",
              "    <tr style=\"text-align: right;\">\n",
              "      <th></th>\n",
              "      <th>id</th>\n",
              "      <th>status_group</th>\n",
              "      <th>amount_tsh</th>\n",
              "      <th>date_recorded</th>\n",
              "      <th>funder</th>\n",
              "      <th>gps_height</th>\n",
              "      <th>installer</th>\n",
              "      <th>longitude</th>\n",
              "      <th>latitude</th>\n",
              "      <th>wpt_name</th>\n",
              "      <th>num_private</th>\n",
              "      <th>basin</th>\n",
              "      <th>subvillage</th>\n",
              "      <th>region</th>\n",
              "      <th>region_code</th>\n",
              "      <th>district_code</th>\n",
              "      <th>lga</th>\n",
              "      <th>ward</th>\n",
              "      <th>population</th>\n",
              "      <th>public_meeting</th>\n",
              "      <th>recorded_by</th>\n",
              "      <th>scheme_management</th>\n",
              "      <th>scheme_name</th>\n",
              "      <th>permit</th>\n",
              "      <th>construction_year</th>\n",
              "      <th>extraction_type</th>\n",
              "      <th>extraction_type_group</th>\n",
              "      <th>extraction_type_class</th>\n",
              "      <th>management</th>\n",
              "      <th>management_group</th>\n",
              "      <th>payment</th>\n",
              "      <th>payment_type</th>\n",
              "      <th>water_quality</th>\n",
              "      <th>quality_group</th>\n",
              "      <th>quantity</th>\n",
              "      <th>quantity_group</th>\n",
              "      <th>source</th>\n",
              "      <th>source_type</th>\n",
              "      <th>source_class</th>\n",
              "      <th>waterpoint_type</th>\n",
              "      <th>waterpoint_type_group</th>\n",
              "    </tr>\n",
              "  </thead>\n",
              "  <tbody>\n",
              "    <tr>\n",
              "      <th>0</th>\n",
              "      <td>69572</td>\n",
              "      <td>functional</td>\n",
              "      <td>6000.0</td>\n",
              "      <td>2011-03-14</td>\n",
              "      <td>Roman</td>\n",
              "      <td>1390</td>\n",
              "      <td>Roman</td>\n",
              "      <td>34.938093</td>\n",
              "      <td>-9.856322</td>\n",
              "      <td>none</td>\n",
              "      <td>0</td>\n",
              "      <td>Lake Nyasa</td>\n",
              "      <td>Mnyusi B</td>\n",
              "      <td>Iringa</td>\n",
              "      <td>11</td>\n",
              "      <td>5</td>\n",
              "      <td>Ludewa</td>\n",
              "      <td>Mundindi</td>\n",
              "      <td>109</td>\n",
              "      <td>True</td>\n",
              "      <td>GeoData Consultants Ltd</td>\n",
              "      <td>VWC</td>\n",
              "      <td>Roman</td>\n",
              "      <td>False</td>\n",
              "      <td>1999</td>\n",
              "      <td>gravity</td>\n",
              "      <td>gravity</td>\n",
              "      <td>gravity</td>\n",
              "      <td>vwc</td>\n",
              "      <td>user-group</td>\n",
              "      <td>pay annually</td>\n",
              "      <td>annually</td>\n",
              "      <td>soft</td>\n",
              "      <td>good</td>\n",
              "      <td>enough</td>\n",
              "      <td>enough</td>\n",
              "      <td>spring</td>\n",
              "      <td>spring</td>\n",
              "      <td>groundwater</td>\n",
              "      <td>communal standpipe</td>\n",
              "      <td>communal standpipe</td>\n",
              "    </tr>\n",
              "    <tr>\n",
              "      <th>1</th>\n",
              "      <td>8776</td>\n",
              "      <td>functional</td>\n",
              "      <td>0.0</td>\n",
              "      <td>2013-03-06</td>\n",
              "      <td>Grumeti</td>\n",
              "      <td>1399</td>\n",
              "      <td>GRUMETI</td>\n",
              "      <td>34.698766</td>\n",
              "      <td>-2.147466</td>\n",
              "      <td>Zahanati</td>\n",
              "      <td>0</td>\n",
              "      <td>Lake Victoria</td>\n",
              "      <td>Nyamara</td>\n",
              "      <td>Mara</td>\n",
              "      <td>20</td>\n",
              "      <td>2</td>\n",
              "      <td>Serengeti</td>\n",
              "      <td>Natta</td>\n",
              "      <td>280</td>\n",
              "      <td>NaN</td>\n",
              "      <td>GeoData Consultants Ltd</td>\n",
              "      <td>Other</td>\n",
              "      <td>NaN</td>\n",
              "      <td>True</td>\n",
              "      <td>2010</td>\n",
              "      <td>gravity</td>\n",
              "      <td>gravity</td>\n",
              "      <td>gravity</td>\n",
              "      <td>wug</td>\n",
              "      <td>user-group</td>\n",
              "      <td>never pay</td>\n",
              "      <td>never pay</td>\n",
              "      <td>soft</td>\n",
              "      <td>good</td>\n",
              "      <td>insufficient</td>\n",
              "      <td>insufficient</td>\n",
              "      <td>rainwater harvesting</td>\n",
              "      <td>rainwater harvesting</td>\n",
              "      <td>surface</td>\n",
              "      <td>communal standpipe</td>\n",
              "      <td>communal standpipe</td>\n",
              "    </tr>\n",
              "    <tr>\n",
              "      <th>2</th>\n",
              "      <td>34310</td>\n",
              "      <td>functional</td>\n",
              "      <td>25.0</td>\n",
              "      <td>2013-02-25</td>\n",
              "      <td>Lottery Club</td>\n",
              "      <td>686</td>\n",
              "      <td>World vision</td>\n",
              "      <td>37.460664</td>\n",
              "      <td>-3.821329</td>\n",
              "      <td>Kwa Mahundi</td>\n",
              "      <td>0</td>\n",
              "      <td>Pangani</td>\n",
              "      <td>Majengo</td>\n",
              "      <td>Manyara</td>\n",
              "      <td>21</td>\n",
              "      <td>4</td>\n",
              "      <td>Simanjiro</td>\n",
              "      <td>Ngorika</td>\n",
              "      <td>250</td>\n",
              "      <td>True</td>\n",
              "      <td>GeoData Consultants Ltd</td>\n",
              "      <td>VWC</td>\n",
              "      <td>Nyumba ya mungu pipe scheme</td>\n",
              "      <td>True</td>\n",
              "      <td>2009</td>\n",
              "      <td>gravity</td>\n",
              "      <td>gravity</td>\n",
              "      <td>gravity</td>\n",
              "      <td>vwc</td>\n",
              "      <td>user-group</td>\n",
              "      <td>pay per bucket</td>\n",
              "      <td>per bucket</td>\n",
              "      <td>soft</td>\n",
              "      <td>good</td>\n",
              "      <td>enough</td>\n",
              "      <td>enough</td>\n",
              "      <td>dam</td>\n",
              "      <td>dam</td>\n",
              "      <td>surface</td>\n",
              "      <td>communal standpipe multiple</td>\n",
              "      <td>communal standpipe</td>\n",
              "    </tr>\n",
              "    <tr>\n",
              "      <th>3</th>\n",
              "      <td>67743</td>\n",
              "      <td>non functional</td>\n",
              "      <td>0.0</td>\n",
              "      <td>2013-01-28</td>\n",
              "      <td>Unicef</td>\n",
              "      <td>263</td>\n",
              "      <td>UNICEF</td>\n",
              "      <td>38.486161</td>\n",
              "      <td>-11.155298</td>\n",
              "      <td>Zahanati Ya Nanyumbu</td>\n",
              "      <td>0</td>\n",
              "      <td>Ruvuma / Southern Coast</td>\n",
              "      <td>Mahakamani</td>\n",
              "      <td>Mtwara</td>\n",
              "      <td>90</td>\n",
              "      <td>63</td>\n",
              "      <td>Nanyumbu</td>\n",
              "      <td>Nanyumbu</td>\n",
              "      <td>58</td>\n",
              "      <td>True</td>\n",
              "      <td>GeoData Consultants Ltd</td>\n",
              "      <td>VWC</td>\n",
              "      <td>NaN</td>\n",
              "      <td>True</td>\n",
              "      <td>1986</td>\n",
              "      <td>submersible</td>\n",
              "      <td>submersible</td>\n",
              "      <td>submersible</td>\n",
              "      <td>vwc</td>\n",
              "      <td>user-group</td>\n",
              "      <td>never pay</td>\n",
              "      <td>never pay</td>\n",
              "      <td>soft</td>\n",
              "      <td>good</td>\n",
              "      <td>dry</td>\n",
              "      <td>dry</td>\n",
              "      <td>machine dbh</td>\n",
              "      <td>borehole</td>\n",
              "      <td>groundwater</td>\n",
              "      <td>communal standpipe multiple</td>\n",
              "      <td>communal standpipe</td>\n",
              "    </tr>\n",
              "    <tr>\n",
              "      <th>4</th>\n",
              "      <td>19728</td>\n",
              "      <td>functional</td>\n",
              "      <td>0.0</td>\n",
              "      <td>2011-07-13</td>\n",
              "      <td>Action In A</td>\n",
              "      <td>0</td>\n",
              "      <td>Artisan</td>\n",
              "      <td>31.130847</td>\n",
              "      <td>-1.825359</td>\n",
              "      <td>Shuleni</td>\n",
              "      <td>0</td>\n",
              "      <td>Lake Victoria</td>\n",
              "      <td>Kyanyamisa</td>\n",
              "      <td>Kagera</td>\n",
              "      <td>18</td>\n",
              "      <td>1</td>\n",
              "      <td>Karagwe</td>\n",
              "      <td>Nyakasimbi</td>\n",
              "      <td>0</td>\n",
              "      <td>True</td>\n",
              "      <td>GeoData Consultants Ltd</td>\n",
              "      <td>NaN</td>\n",
              "      <td>NaN</td>\n",
              "      <td>True</td>\n",
              "      <td>0</td>\n",
              "      <td>gravity</td>\n",
              "      <td>gravity</td>\n",
              "      <td>gravity</td>\n",
              "      <td>other</td>\n",
              "      <td>other</td>\n",
              "      <td>never pay</td>\n",
              "      <td>never pay</td>\n",
              "      <td>soft</td>\n",
              "      <td>good</td>\n",
              "      <td>seasonal</td>\n",
              "      <td>seasonal</td>\n",
              "      <td>rainwater harvesting</td>\n",
              "      <td>rainwater harvesting</td>\n",
              "      <td>surface</td>\n",
              "      <td>communal standpipe</td>\n",
              "      <td>communal standpipe</td>\n",
              "    </tr>\n",
              "  </tbody>\n",
              "</table>\n",
              "</div>"
            ],
            "text/plain": [
              "      id    status_group  ...              waterpoint_type waterpoint_type_group\n",
              "0  69572      functional  ...           communal standpipe    communal standpipe\n",
              "1   8776      functional  ...           communal standpipe    communal standpipe\n",
              "2  34310      functional  ...  communal standpipe multiple    communal standpipe\n",
              "3  67743  non functional  ...  communal standpipe multiple    communal standpipe\n",
              "4  19728      functional  ...           communal standpipe    communal standpipe\n",
              "\n",
              "[5 rows x 41 columns]"
            ]
          },
          "metadata": {
            "tags": []
          },
          "execution_count": 3
        }
      ]
    },
    {
      "cell_type": "code",
      "metadata": {
        "id": "3R2-dlReMVNk",
        "colab_type": "code",
        "outputId": "30b3643b-8c82-4512-c07f-5a140f7946db",
        "colab": {
          "base_uri": "https://localhost:8080/",
          "height": 34
        }
      },
      "source": [
        "len(data_test.date_recorded.unique())"
      ],
      "execution_count": 4,
      "outputs": [
        {
          "output_type": "execute_result",
          "data": {
            "text/plain": [
              "331"
            ]
          },
          "metadata": {
            "tags": []
          },
          "execution_count": 4
        }
      ]
    },
    {
      "cell_type": "code",
      "metadata": {
        "id": "2ZJIMM4GGq93",
        "colab_type": "code",
        "outputId": "abc53867-f009-4e9b-d2c3-143a07d2cefa",
        "colab": {
          "base_uri": "https://localhost:8080/",
          "height": 489
        }
      },
      "source": [
        "##Target Variable Distribution\n",
        "print(\"Number of Given Records:\", data.shape[0])\n",
        "print(\"Number of Given Features:\", data.shape[1])\n",
        "plt.figure(figsize=(13,6))\n",
        "sns.countplot(data.status_group, palette = 'Set1')\n",
        "data[\"status_group\"].value_counts(normalize=True)*100"
      ],
      "execution_count": 5,
      "outputs": [
        {
          "output_type": "stream",
          "text": [
            "Number of Given Records: 59400\n",
            "Number of Given Features: 41\n"
          ],
          "name": "stdout"
        },
        {
          "output_type": "execute_result",
          "data": {
            "text/plain": [
              "functional                 54.308081\n",
              "non functional             38.424242\n",
              "functional needs repair     7.267677\n",
              "Name: status_group, dtype: float64"
            ]
          },
          "metadata": {
            "tags": []
          },
          "execution_count": 5
        },
        {
          "output_type": "display_data",
          "data": {
            "image/png": "[encoded data removed]",
            "text/plain": [
              "<Figure size 936x432 with 1 Axes>"
            ]
          },
          "metadata": {
            "tags": []
          }
        }
      ]
    },
    {
      "cell_type": "markdown",
      "metadata": {
        "id": "UJDkZU1n0kTc",
        "colab_type": "text"
      },
      "source": [
        "**Target Class Variable Distribution - (functional, non-functional, Needs repair)**\n",
        "\n",
        "    Number of Given Records: 59400\n",
        "    Number of Given Features: 41\n",
        "    \n",
        "    functional                 54.308081\n",
        "    non functional             38.424242\n",
        "    functional needs repair     7.267677\n",
        "\n",
        "The target class is imbalanced with functional needs repair being smallest which is approx. 7.26% of whole dataset (59400)."
      ]
    },
    {
      "cell_type": "markdown",
      "metadata": {
        "id": "mO8s2PJg45bu",
        "colab_type": "text"
      },
      "source": [
        "#### 2.1 Exploration, Data Cleaning and Noise Removal\n",
        "\n",
        "1.   Get rid of unwanted columns ('num_private', 'recorded_by' and unneeded hierarchical columns)\n",
        "2.   Remove Duplicates if exist\n",
        "3.   Handle Missing Values, mean, median or mode\n",
        "4.   Get rid of noise above if any\n",
        "5. Fix Misrepresented data such as \"N,0\"\" must be addressed, it will be cleaned as a part of data cleaning.\n",
        "\n",
        "           Before Cleaning: Number of Given Records: 59400\n",
        "                            Number of Given Features: 41\n",
        "\n"
      ]
    },
    {
      "cell_type": "code",
      "metadata": {
        "id": "GUjb_nLA2DEo",
        "colab_type": "code",
        "colab": {}
      },
      "source": [
        "##Drop Colums which are ids and not useful towards prediction\n",
        "data.drop(['num_private', 'recorded_by'], axis=1, inplace=True)\n",
        "data_test.drop(['num_private', 'recorded_by'], axis=1, inplace=True)"
      ],
      "execution_count": 0,
      "outputs": []
    },
    {
      "cell_type": "code",
      "metadata": {
        "id": "2QdoCKfIGo5e",
        "colab_type": "code",
        "outputId": "80a18c56-8c7c-4eed-9419-25dd3bdfae5b",
        "colab": {
          "base_uri": "https://localhost:8080/",
          "height": 284
        }
      },
      "source": [
        "data.describe()"
      ],
      "execution_count": 7,
      "outputs": [
        {
          "output_type": "execute_result",
          "data": {
            "text/html": [
              "<div>\n",
              "<style scoped>\n",
              "    .dataframe tbody tr th:only-of-type {\n",
              "        vertical-align: middle;\n",
              "    }\n",
              "\n",
              "    .dataframe tbody tr th {\n",
              "        vertical-align: top;\n",
              "    }\n",
              "\n",
              "    .dataframe thead th {\n",
              "        text-align: right;\n",
              "    }\n",
              "</style>\n",
              "<table border=\"1\" class=\"dataframe\">\n",
              "  <thead>\n",
              "    <tr style=\"text-align: right;\">\n",
              "      <th></th>\n",
              "      <th>id</th>\n",
              "      <th>amount_tsh</th>\n",
              "      <th>gps_height</th>\n",
              "      <th>longitude</th>\n",
              "      <th>latitude</th>\n",
              "      <th>region_code</th>\n",
              "      <th>district_code</th>\n",
              "      <th>population</th>\n",
              "      <th>construction_year</th>\n",
              "    </tr>\n",
              "  </thead>\n",
              "  <tbody>\n",
              "    <tr>\n",
              "      <th>count</th>\n",
              "      <td>59400.000000</td>\n",
              "      <td>59400.000000</td>\n",
              "      <td>59400.000000</td>\n",
              "      <td>59400.000000</td>\n",
              "      <td>5.940000e+04</td>\n",
              "      <td>59400.000000</td>\n",
              "      <td>59400.000000</td>\n",
              "      <td>59400.000000</td>\n",
              "      <td>59400.000000</td>\n",
              "    </tr>\n",
              "    <tr>\n",
              "      <th>mean</th>\n",
              "      <td>37115.131768</td>\n",
              "      <td>317.650385</td>\n",
              "      <td>668.297239</td>\n",
              "      <td>34.077427</td>\n",
              "      <td>-5.706033e+00</td>\n",
              "      <td>15.297003</td>\n",
              "      <td>5.629747</td>\n",
              "      <td>179.909983</td>\n",
              "      <td>1300.652475</td>\n",
              "    </tr>\n",
              "    <tr>\n",
              "      <th>std</th>\n",
              "      <td>21453.128371</td>\n",
              "      <td>2997.574558</td>\n",
              "      <td>693.116350</td>\n",
              "      <td>6.567432</td>\n",
              "      <td>2.946019e+00</td>\n",
              "      <td>17.587406</td>\n",
              "      <td>9.633649</td>\n",
              "      <td>471.482176</td>\n",
              "      <td>951.620547</td>\n",
              "    </tr>\n",
              "    <tr>\n",
              "      <th>min</th>\n",
              "      <td>0.000000</td>\n",
              "      <td>0.000000</td>\n",
              "      <td>-90.000000</td>\n",
              "      <td>0.000000</td>\n",
              "      <td>-1.164944e+01</td>\n",
              "      <td>1.000000</td>\n",
              "      <td>0.000000</td>\n",
              "      <td>0.000000</td>\n",
              "      <td>0.000000</td>\n",
              "    </tr>\n",
              "    <tr>\n",
              "      <th>25%</th>\n",
              "      <td>18519.750000</td>\n",
              "      <td>0.000000</td>\n",
              "      <td>0.000000</td>\n",
              "      <td>33.090347</td>\n",
              "      <td>-8.540621e+00</td>\n",
              "      <td>5.000000</td>\n",
              "      <td>2.000000</td>\n",
              "      <td>0.000000</td>\n",
              "      <td>0.000000</td>\n",
              "    </tr>\n",
              "    <tr>\n",
              "      <th>50%</th>\n",
              "      <td>37061.500000</td>\n",
              "      <td>0.000000</td>\n",
              "      <td>369.000000</td>\n",
              "      <td>34.908743</td>\n",
              "      <td>-5.021597e+00</td>\n",
              "      <td>12.000000</td>\n",
              "      <td>3.000000</td>\n",
              "      <td>25.000000</td>\n",
              "      <td>1986.000000</td>\n",
              "    </tr>\n",
              "    <tr>\n",
              "      <th>75%</th>\n",
              "      <td>55656.500000</td>\n",
              "      <td>20.000000</td>\n",
              "      <td>1319.250000</td>\n",
              "      <td>37.178387</td>\n",
              "      <td>-3.326156e+00</td>\n",
              "      <td>17.000000</td>\n",
              "      <td>5.000000</td>\n",
              "      <td>215.000000</td>\n",
              "      <td>2004.000000</td>\n",
              "    </tr>\n",
              "    <tr>\n",
              "      <th>max</th>\n",
              "      <td>74247.000000</td>\n",
              "      <td>350000.000000</td>\n",
              "      <td>2770.000000</td>\n",
              "      <td>40.345193</td>\n",
              "      <td>-2.000000e-08</td>\n",
              "      <td>99.000000</td>\n",
              "      <td>80.000000</td>\n",
              "      <td>30500.000000</td>\n",
              "      <td>2013.000000</td>\n",
              "    </tr>\n",
              "  </tbody>\n",
              "</table>\n",
              "</div>"
            ],
            "text/plain": [
              "                 id     amount_tsh  ...    population  construction_year\n",
              "count  59400.000000   59400.000000  ...  59400.000000       59400.000000\n",
              "mean   37115.131768     317.650385  ...    179.909983        1300.652475\n",
              "std    21453.128371    2997.574558  ...    471.482176         951.620547\n",
              "min        0.000000       0.000000  ...      0.000000           0.000000\n",
              "25%    18519.750000       0.000000  ...      0.000000           0.000000\n",
              "50%    37061.500000       0.000000  ...     25.000000        1986.000000\n",
              "75%    55656.500000      20.000000  ...    215.000000        2004.000000\n",
              "max    74247.000000  350000.000000  ...  30500.000000        2013.000000\n",
              "\n",
              "[8 rows x 9 columns]"
            ]
          },
          "metadata": {
            "tags": []
          },
          "execution_count": 7
        }
      ]
    },
    {
      "cell_type": "code",
      "metadata": {
        "id": "dKqWzWAcAsO9",
        "colab_type": "code",
        "outputId": "a0c36a6b-70da-489f-8d63-f10da720d02b",
        "colab": {
          "base_uri": "https://localhost:8080/",
          "height": 202
        }
      },
      "source": [
        "height_check = data[data['gps_height'] == 0]\n",
        "print(height_check.groupby(['basin']).size())"
      ],
      "execution_count": 8,
      "outputs": [
        {
          "output_type": "stream",
          "text": [
            "basin\n",
            "Internal                   3109\n",
            "Lake Nyasa                 2430\n",
            "Lake Rukwa                 1442\n",
            "Lake Tanganyika            2811\n",
            "Lake Victoria              7716\n",
            "Pangani                     387\n",
            "Rufiji                     1155\n",
            "Ruvuma / Southern Coast       6\n",
            "Wami / Ruvu                1382\n",
            "dtype: int64\n"
          ],
          "name": "stdout"
        }
      ]
    },
    {
      "cell_type": "code",
      "metadata": {
        "id": "GL8mYPb2BqIv",
        "colab_type": "code",
        "outputId": "9c41bd3f-92e4-4dee-e084-0a61addd4fae",
        "colab": {
          "base_uri": "https://localhost:8080/",
          "height": 202
        }
      },
      "source": [
        "print(data.groupby(['basin']).size())"
      ],
      "execution_count": 9,
      "outputs": [
        {
          "output_type": "stream",
          "text": [
            "basin\n",
            "Internal                    7785\n",
            "Lake Nyasa                  5085\n",
            "Lake Rukwa                  2454\n",
            "Lake Tanganyika             6432\n",
            "Lake Victoria              10248\n",
            "Pangani                     8940\n",
            "Rufiji                      7976\n",
            "Ruvuma / Southern Coast     4493\n",
            "Wami / Ruvu                 5987\n",
            "dtype: int64\n"
          ],
          "name": "stdout"
        }
      ]
    },
    {
      "cell_type": "code",
      "metadata": {
        "id": "VdM6-H78MIha",
        "colab_type": "code",
        "outputId": "5d3221d5-f63b-4c09-9950-de11ec38fd3f",
        "colab": {
          "base_uri": "https://localhost:8080/",
          "height": 672
        }
      },
      "source": [
        "for colm in data.columns:\n",
        "  print(colm,\" \", len(data[colm].unique()))"
      ],
      "execution_count": 10,
      "outputs": [
        {
          "output_type": "stream",
          "text": [
            "id   59400\n",
            "status_group   3\n",
            "amount_tsh   98\n",
            "date_recorded   356\n",
            "funder   1898\n",
            "gps_height   2428\n",
            "installer   2146\n",
            "longitude   57516\n",
            "latitude   57517\n",
            "wpt_name   37400\n",
            "basin   9\n",
            "subvillage   19288\n",
            "region   21\n",
            "region_code   27\n",
            "district_code   20\n",
            "lga   125\n",
            "ward   2092\n",
            "population   1049\n",
            "public_meeting   3\n",
            "scheme_management   13\n",
            "scheme_name   2697\n",
            "permit   3\n",
            "construction_year   55\n",
            "extraction_type   18\n",
            "extraction_type_group   13\n",
            "extraction_type_class   7\n",
            "management   12\n",
            "management_group   5\n",
            "payment   7\n",
            "payment_type   7\n",
            "water_quality   8\n",
            "quality_group   6\n",
            "quantity   5\n",
            "quantity_group   5\n",
            "source   10\n",
            "source_type   7\n",
            "source_class   3\n",
            "waterpoint_type   7\n",
            "waterpoint_type_group   6\n"
          ],
          "name": "stdout"
        }
      ]
    },
    {
      "cell_type": "code",
      "metadata": {
        "id": "M7rp65nuLfGZ",
        "colab_type": "code",
        "outputId": "283e03cf-a45b-45e8-e208-1e1edf75d09a",
        "colab": {
          "base_uri": "https://localhost:8080/",
          "height": 655
        }
      },
      "source": [
        "for colm in data_test.columns:\n",
        "  print(colm,\" \", len(data_test[colm].unique()))"
      ],
      "execution_count": 11,
      "outputs": [
        {
          "output_type": "stream",
          "text": [
            "id   14850\n",
            "amount_tsh   68\n",
            "date_recorded   331\n",
            "funder   981\n",
            "gps_height   2157\n",
            "installer   1092\n",
            "longitude   14390\n",
            "latitude   14390\n",
            "wpt_name   10840\n",
            "basin   9\n",
            "subvillage   8444\n",
            "region   21\n",
            "region_code   26\n",
            "district_code   20\n",
            "lga   125\n",
            "ward   1959\n",
            "population   637\n",
            "public_meeting   3\n",
            "scheme_management   12\n",
            "scheme_name   1790\n",
            "permit   3\n",
            "construction_year   55\n",
            "extraction_type   17\n",
            "extraction_type_group   13\n",
            "extraction_type_class   7\n",
            "management   12\n",
            "management_group   5\n",
            "payment   7\n",
            "payment_type   7\n",
            "water_quality   8\n",
            "quality_group   6\n",
            "quantity   5\n",
            "quantity_group   5\n",
            "source   10\n",
            "source_type   7\n",
            "source_class   3\n",
            "waterpoint_type   7\n",
            "waterpoint_type_group   6\n"
          ],
          "name": "stdout"
        }
      ]
    },
    {
      "cell_type": "markdown",
      "metadata": {
        "id": "Pn5KQ3EB_b_Y",
        "colab_type": "text"
      },
      "source": [
        "**Note:** longitude, amount_tsh and population are highly skewed and must be taken cared by Normalization.\n",
        "\n",
        "Almost 50% of population falls in 0 or 1:\n",
        "```\n",
        "0 : 35.994949%\n",
        "1  : 11.826599%\n",
        "```\n",
        "Think before considering amount_tsh - this has  0.0  :70.099327%\n",
        "\n",
        "GPS_heigh - 34.407407%  got 0 height"
      ]
    },
    {
      "cell_type": "code",
      "metadata": {
        "id": "Fw_J3lz-2V7o",
        "colab_type": "code",
        "outputId": "a7d469b9-8e14-441a-ceae-e3e2e69d58d7",
        "colab": {
          "base_uri": "https://localhost:8080/",
          "height": 218
        }
      },
      "source": [
        "#SKEW in Data # skewness along the index axis\n",
        "data['gps_height'].replace(0.0, np.nan, inplace=True)\n",
        "data['population'].replace(0.0, np.nan, inplace=True)\n",
        "data['population'].replace(\"0.0\", np.nan, inplace=True)\n",
        "data['amount_tsh'].replace(0.0, np.nan, inplace=True)\n",
        "print(data.skew(axis = 0, skipna = True))"
      ],
      "execution_count": 12,
      "outputs": [
        {
          "output_type": "stream",
          "text": [
            "id                    0.002623\n",
            "amount_tsh           32.487610\n",
            "gps_height           -0.201926\n",
            "longitude            -4.191046\n",
            "latitude             -0.152037\n",
            "region_code           3.173818\n",
            "district_code         3.962045\n",
            "population           10.988913\n",
            "public_meeting       -2.861945\n",
            "permit               -0.819382\n",
            "construction_year    -0.634928\n",
            "dtype: float64\n"
          ],
          "name": "stdout"
        }
      ]
    },
    {
      "cell_type": "code",
      "metadata": {
        "id": "NPWkCXJo2loV",
        "colab_type": "code",
        "outputId": "a7aaf624-619d-482b-b160-b64e414b0174",
        "colab": {
          "base_uri": "https://localhost:8080/",
          "height": 218
        }
      },
      "source": [
        "#SKEW in Data # skewness along the index axis\n",
        "data_test['gps_height'].replace(0.0, np.nan, inplace=True)\n",
        "data_test['population'].replace(0.0, np.nan, inplace=True)\n",
        "data_test['amount_tsh'].replace(0.0, np.nan, inplace=True)\n",
        "print(data_test.skew(axis = 0, skipna = True))"
      ],
      "execution_count": 13,
      "outputs": [
        {
          "output_type": "stream",
          "text": [
            "id                   -0.010584\n",
            "amount_tsh           24.943995\n",
            "gps_height           -0.179493\n",
            "longitude            -4.173130\n",
            "latitude             -0.156238\n",
            "region_code           3.201174\n",
            "district_code         3.959339\n",
            "population            6.965277\n",
            "public_meeting       -2.823088\n",
            "permit               -0.827471\n",
            "construction_year    -0.609383\n",
            "dtype: float64\n"
          ],
          "name": "stdout"
        }
      ]
    },
    {
      "cell_type": "markdown",
      "metadata": {
        "id": "kBNGsj5Jk2bJ",
        "colab_type": "text"
      },
      "source": [
        "Interpreting Skewness: If skewness is less than −1 or greater than +1, the distribution is highly skewed. If skewness is between −1 and −½ or between +½ and +1, the distribution is moderately skewed. If skewness is between −½ and +½, the distribution is approximately symmetric.\n",
        "\n"
      ]
    },
    {
      "cell_type": "markdown",
      "metadata": {
        "id": "VxhBd0ho33BG",
        "colab_type": "text"
      },
      "source": [
        "### 2.1.1 Water Source: "
      ]
    },
    {
      "cell_type": "code",
      "metadata": {
        "id": "JOSnSC1d8dpF",
        "colab_type": "code",
        "colab": {}
      },
      "source": [
        "#For every categorical response, convert the levels to lower case, in case there is random capitalization\n",
        "for colm in data.columns:\n",
        "  if data[colm].dtypes == object:\n",
        "    data[colm] = data[colm].astype(str).str.lower()\n",
        "\n",
        "for colm in data_test.columns:\n",
        "  if data_test[colm].dtypes == object:\n",
        "    data_test[colm] = data_test[colm].astype(str).str.lower()"
      ],
      "execution_count": 0,
      "outputs": []
    },
    {
      "cell_type": "code",
      "metadata": {
        "id": "grqPirQE7uqP",
        "colab_type": "code",
        "outputId": "0a231f58-ee13-4013-b7a8-5fbb923f155a",
        "colab": {
          "base_uri": "https://localhost:8080/",
          "height": 569
        }
      },
      "source": [
        "plt.figure(figsize=(14, 9))\n",
        "sns.countplot(data=data,x='source_type',hue='status_group')"
      ],
      "execution_count": 15,
      "outputs": [
        {
          "output_type": "execute_result",
          "data": {
            "text/plain": [
              "<matplotlib.axes._subplots.AxesSubplot at 0x7f8cb87ce588>"
            ]
          },
          "metadata": {
            "tags": []
          },
          "execution_count": 15
        },
        {
          "output_type": "display_data",
          "data": {
            "image/png": "[encoded data removed]",
            "text/plain": [
              "<Figure size 1008x648 with 1 Axes>"
            ]
          },
          "metadata": {
            "tags": []
          }
        }
      ]
    },
    {
      "cell_type": "code",
      "metadata": {
        "id": "Ohf231fX4QLv",
        "colab_type": "code",
        "outputId": "8770cc9a-a8f2-43c4-cd76-690649384f77",
        "colab": {
          "base_uri": "https://localhost:8080/",
          "height": 218
        }
      },
      "source": [
        "print(data.groupby(['source', 'source_type', 'source_class']).size())\n",
        "data.drop('source_type',axis=1,inplace=True)\n",
        "data.drop('source_class',axis=1,inplace=True)\n",
        "data_test.drop('source_type',axis=1,inplace=True)\n",
        "data_test.drop('source_class',axis=1,inplace=True)"
      ],
      "execution_count": 16,
      "outputs": [
        {
          "output_type": "stream",
          "text": [
            "source                source_type           source_class\n",
            "dam                   dam                   surface           656\n",
            "hand dtw              borehole              groundwater       874\n",
            "lake                  river/lake            surface           765\n",
            "machine dbh           borehole              groundwater     11075\n",
            "other                 other                 unknown           212\n",
            "rainwater harvesting  rainwater harvesting  surface          2295\n",
            "river                 river/lake            surface          9612\n",
            "shallow well          shallow well          groundwater     16824\n",
            "spring                spring                groundwater     17021\n",
            "unknown               other                 unknown            66\n",
            "dtype: int64\n"
          ],
          "name": "stdout"
        }
      ]
    },
    {
      "cell_type": "markdown",
      "metadata": {
        "id": "KZxGnf8fABOV",
        "colab_type": "text"
      },
      "source": [
        "### 2.1.2. Water Quality, Quantity and Cost: "
      ]
    },
    {
      "cell_type": "code",
      "metadata": {
        "id": "SA4KRr6KAVm4",
        "colab_type": "code",
        "outputId": "ca17133a-8b05-41f6-bc36-a982d3a2c5e7",
        "colab": {
          "base_uri": "https://localhost:8080/",
          "height": 618
        }
      },
      "source": [
        "plt.figure(figsize=(24,12))\n",
        "s_title ='Water Quality Quantity'\n",
        "plt.suptitle(s_title, fontsize=16)\n",
        "\n",
        "plt.subplot(2,3,1)\n",
        "\n",
        "sns.countplot(data=data,x='water_quality',hue='status_group')\n",
        "plt.legend(bbox_to_anchor=(1.05, 1), loc=2, borderaxespad=0.)\n",
        "\n",
        "plt.subplot(2,3,2)\n",
        "sns.countplot(data=data,x='quantity',hue='status_group')\n",
        "\n",
        "plt.subplot(2,3,3)\n",
        "sns.countplot(data=data,x='payment_type',hue='status_group')\n",
        "\n",
        "data.water_quality.value_counts()"
      ],
      "execution_count": 17,
      "outputs": [
        {
          "output_type": "execute_result",
          "data": {
            "text/plain": [
              "soft                  50818\n",
              "salty                  4856\n",
              "unknown                1876\n",
              "milky                   804\n",
              "coloured                490\n",
              "salty abandoned         339\n",
              "fluoride                200\n",
              "fluoride abandoned       17\n",
              "Name: water_quality, dtype: int64"
            ]
          },
          "metadata": {
            "tags": []
          },
          "execution_count": 17
        },
        {
          "output_type": "display_data",
          "data": {
            "image/png": "[encoded data removed]",
            "text/plain": [
              "<Figure size 1728x864 with 3 Axes>"
            ]
          },
          "metadata": {
            "tags": []
          }
        }
      ]
    },
    {
      "cell_type": "markdown",
      "metadata": {
        "id": "gmHx76jDJ0V6",
        "colab_type": "text"
      },
      "source": [
        "In above payment barchart, never pay and unknown payment type got many non functional instaances."
      ]
    },
    {
      "cell_type": "code",
      "metadata": {
        "id": "vO9x_0bqCKOM",
        "colab_type": "code",
        "outputId": "bab09154-d4f4-49e0-bffe-f918d16b7660",
        "colab": {
          "base_uri": "https://localhost:8080/",
          "height": 454
        }
      },
      "source": [
        "print(data.groupby(['water_quality', 'quality_group']).size())\n",
        "data.drop('quality_group',axis=1,inplace=True)\n",
        "data_test.drop('quality_group',axis=1,inplace=True)\n",
        "print(data.groupby(['quantity', 'quantity_group']).size())\n",
        "data.drop('quantity_group',axis=1,inplace=True)\n",
        "data_test.drop('quantity_group',axis=1,inplace=True)\n",
        "print(data.groupby(['payment', 'payment_type']).size())\n",
        "data.drop('payment',axis=1,inplace=True)\n",
        "data_test.drop('payment',axis=1,inplace=True)"
      ],
      "execution_count": 18,
      "outputs": [
        {
          "output_type": "stream",
          "text": [
            "water_quality       quality_group\n",
            "coloured            colored            490\n",
            "fluoride            fluoride           200\n",
            "fluoride abandoned  fluoride            17\n",
            "milky               milky              804\n",
            "salty               salty             4856\n",
            "salty abandoned     salty              339\n",
            "soft                good             50818\n",
            "unknown             unknown           1876\n",
            "dtype: int64\n",
            "quantity      quantity_group\n",
            "dry           dry                6246\n",
            "enough        enough            33186\n",
            "insufficient  insufficient      15129\n",
            "seasonal      seasonal           4050\n",
            "unknown       unknown             789\n",
            "dtype: int64\n",
            "payment                payment_type\n",
            "never pay              never pay       25348\n",
            "other                  other            1054\n",
            "pay annually           annually         3642\n",
            "pay monthly            monthly          8300\n",
            "pay per bucket         per bucket       8985\n",
            "pay when scheme fails  on failure       3914\n",
            "unknown                unknown          8157\n",
            "dtype: int64\n"
          ],
          "name": "stdout"
        }
      ]
    },
    {
      "cell_type": "code",
      "metadata": {
        "id": "tFOUl7n2JKix",
        "colab_type": "code",
        "outputId": "e5fc5ea8-4b6b-4c1d-e949-b08169a3b24b",
        "colab": {
          "base_uri": "https://localhost:8080/",
          "height": 376
        }
      },
      "source": [
        "#if water point is old, it is highly likely to be non functional or needs repair.\n",
        "#New features were created namely number of days and number of months water point is operational.\n",
        "data['construction_year'].replace(0.0, np.nan, inplace=True)\n",
        "data[\"construction_year\"].fillna(data.groupby(['region', 'district_code'])[\"construction_year\"].transform(\"median\"), inplace=True)\n",
        "data[\"construction_year\"].fillna(data.groupby(['region'])[\"construction_year\"].transform(\"median\"), inplace=True)\n",
        "data[\"construction_year\"].fillna(data.groupby(['district_code'])[\"construction_year\"].transform(\"median\"), inplace=True)\n",
        "data[\"construction_year\"].fillna(data[\"construction_year\"].median(), inplace=True)\n",
        "\n",
        "data['date_recorded'] = pd.to_datetime(data['date_recorded'])\n",
        "data['operational_year'] = data.date_recorded.dt.year - data.construction_year\n",
        "\n",
        "\n",
        "data_test['construction_year'].replace(0.0, np.nan, inplace=True)\n",
        "data_test[\"construction_year\"].fillna(data_test.groupby(['region', 'district_code'])[\"construction_year\"].transform(\"median\"), inplace=True)\n",
        "data_test[\"construction_year\"].fillna(data_test.groupby(['region'])[\"construction_year\"].transform(\"median\"), inplace=True)\n",
        "data_test[\"construction_year\"].fillna(data_test.groupby(['district_code'])[\"construction_year\"].transform(\"median\"), inplace=True)\n",
        "data_test[\"construction_year\"].fillna(data_test[\"construction_year\"].median(), inplace=True)\n",
        "\n",
        "data_test['date_recorded'] = pd.to_datetime(data_test['date_recorded'])\n",
        "data_test['operational_year'] = data_test.date_recorded.dt.year - data_test.construction_year\n",
        "\n",
        "# Plotting the KDE Plot \n",
        "plt.figure(figsize=(20,12))\n",
        "plt.subplot(2,2,1)\n",
        "sns.kdeplot(data.loc[(data['status_group']=='functional'), \n",
        "            'operational_year'], color='r', shade=True, Label='functional') \n",
        "  \n",
        "sns.kdeplot(data.loc[(data['status_group']=='non functional'),  \n",
        "            'operational_year'], color='c', shade=True, Label='non functional') \n",
        "\n",
        "sns.kdeplot(data.loc[(data['status_group']=='functional needs repair'),  \n",
        "            'operational_year'], color='g', shade=True, Label='functional needs repair') \n",
        "  \n",
        "plt.xlabel('operational_years') \n",
        "plt.ylabel('Probability Density')\n",
        "\n",
        "plt.subplot(2,2,2)\n",
        "\n",
        "sns.kdeplot(data.loc[(data['status_group']=='functional'), \n",
        "            'construction_year'], color='r', shade=True, Label='functional') \n",
        "  \n",
        "sns.kdeplot(data.loc[(data['status_group']=='non functional'),  \n",
        "            'construction_year'], color='c', shade=True, Label='non functional') \n",
        "\n",
        "sns.kdeplot(data.loc[(data['status_group']=='functional needs repair'),  \n",
        "            'construction_year'], color='g', shade=True, Label='functional needs repair') \n",
        "  \n",
        "plt.xlabel('construction_year') \n",
        "plt.ylabel('Probability Density')"
      ],
      "execution_count": 19,
      "outputs": [
        {
          "output_type": "execute_result",
          "data": {
            "text/plain": [
              "Text(0, 0.5, 'Probability Density')"
            ]
          },
          "metadata": {
            "tags": []
          },
          "execution_count": 19
        },
        {
          "output_type": "display_data",
          "data": {
            "image/png": "[encoded data removed]",
            "text/plain": [
              "<Figure size 1440x864 with 2 Axes>"
            ]
          },
          "metadata": {
            "tags": []
          }
        }
      ]
    },
    {
      "cell_type": "code",
      "metadata": {
        "id": "Fc-dFirQKopc",
        "colab_type": "code",
        "colab": {}
      },
      "source": [
        "data.drop('construction_year',axis=1,inplace=True)\n",
        "data.drop('date_recorded',axis=1,inplace=True)\n",
        "\n",
        "data_test.drop('construction_year',axis=1,inplace=True)\n",
        "data_test.drop('date_recorded',axis=1,inplace=True)"
      ],
      "execution_count": 0,
      "outputs": []
    },
    {
      "cell_type": "markdown",
      "metadata": {
        "id": "wMCPQ05dCkm-",
        "colab_type": "text"
      },
      "source": [
        "### 2.1.3. Pump Details and Consumer Population:\n",
        "\n",
        "Almost 50% of population falls in 0 or 1:\n",
        "```\n",
        "0 : 35.994949%\n",
        "1  : 11.826599%\n",
        "```\n",
        "Think before considering amount_tsh - this has  0.0  :70.099327%\n",
        "\n",
        "GPS_heigh - 34.407407%  got 0 height\n"
      ]
    },
    {
      "cell_type": "code",
      "metadata": {
        "id": "52A52mqFDKYj",
        "colab_type": "code",
        "outputId": "aaffc636-ea8c-4158-ff72-3eb199ec5ae1",
        "colab": {
          "base_uri": "https://localhost:8080/",
          "height": 396
        }
      },
      "source": [
        "# Plotting the KDE Plot \n",
        "plt.figure(figsize=(24,12))\n",
        "plt.subplot(2,3,1)\n",
        "sns.kdeplot(data.loc[(data['status_group']=='functional'), \n",
        "            'population'], color='r', shade=True, Label='functional') \n",
        "  \n",
        "sns.kdeplot(data.loc[(data['status_group']=='non functional'),  \n",
        "            'population'], color='c', shade=True, Label='non functional') \n",
        "\n",
        "sns.kdeplot(data.loc[(data['status_group']=='functional needs repair'),  \n",
        "            'population'], color='g', shade=True, Label='functional needs repair') \n",
        "  \n",
        "plt.xlabel('population') \n",
        "plt.ylabel('Probability Density')\n",
        "\n",
        "plt.subplot(2,3,2)\n",
        "\n",
        "sns.kdeplot(data.loc[(data['status_group']=='functional'), \n",
        "            'gps_height'], color='r', shade=True, Label='functional') \n",
        "  \n",
        "sns.kdeplot(data.loc[(data['status_group']=='non functional'),  \n",
        "            'gps_height'], color='c', shade=True, Label='non functional') \n",
        "\n",
        "sns.kdeplot(data.loc[(data['status_group']=='functional needs repair'),  \n",
        "            'gps_height'], color='g', shade=True, Label='functional needs repair') \n",
        "  \n",
        "plt.xlabel('gps_height') \n",
        "plt.ylabel('Probability Density')\n",
        "\n",
        "\n",
        "plt.subplot(2,3,3)\n",
        "\n",
        "sns.kdeplot(data.loc[(data['status_group']=='functional'), \n",
        "            'amount_tsh'], color='r', shade=True, Label='functional') \n",
        "  \n",
        "sns.kdeplot(data.loc[(data['status_group']=='non functional'),  \n",
        "            'amount_tsh'], color='c', shade=True, Label='non functional') \n",
        "\n",
        "sns.kdeplot(data.loc[(data['status_group']=='functional needs repair'),  \n",
        "            'amount_tsh'], color='g', shade=True, Label='functional needs repair') \n",
        "  \n",
        "plt.xlabel('amount_tsh') \n",
        "plt.ylabel('Probability Density')"
      ],
      "execution_count": 21,
      "outputs": [
        {
          "output_type": "execute_result",
          "data": {
            "text/plain": [
              "Text(0, 0.5, 'Probability Density')"
            ]
          },
          "metadata": {
            "tags": []
          },
          "execution_count": 21
        },
        {
          "output_type": "display_data",
          "data": {
            "image/png": "[encoded data removed]",
            "text/plain": [
              "<Figure size 1728x864 with 3 Axes>"
            ]
          },
          "metadata": {
            "tags": []
          }
        }
      ]
    },
    {
      "cell_type": "markdown",
      "metadata": {
        "id": "mNyP08WINvu1",
        "colab_type": "text"
      },
      "source": [
        "A Density Plot visualises the distribution of data over a continuous interval or time period. This chart is a variation of a Histogram that uses kernel smoothing to plot values, allowing for smoother distributions by smoothing out the noise."
      ]
    },
    {
      "cell_type": "code",
      "metadata": {
        "id": "xbe5ARc3SbcF",
        "colab_type": "code",
        "colab": {}
      },
      "source": [
        "test = data"
      ],
      "execution_count": 0,
      "outputs": []
    },
    {
      "cell_type": "code",
      "metadata": {
        "id": "ywkjF06wHU4r",
        "colab_type": "code",
        "colab": {}
      },
      "source": [
        "##Fixing Null Values 34.407407%  got 0 height\n",
        "data[\"gps_height\"].fillna(data.groupby(['region', 'district_code'])[\"gps_height\"].transform(\"mean\"), inplace=True)\n",
        "data[\"gps_height\"].fillna(data.groupby(['region'])[\"gps_height\"].transform(\"mean\"), inplace=True)\n",
        "data[\"gps_height\"].fillna(data[\"gps_height\"].mean(), inplace=True)\n",
        "\n",
        "### Almost 50% 0 or 1\n",
        "data[\"population\"].fillna(data.groupby(['region', 'district_code'])[\"population\"].transform(\"median\"), inplace=True)\n",
        "data[\"population\"].fillna(data.groupby(['region'])[\"population\"].transform(\"median\"), inplace=True)\n",
        "data[\"population\"].fillna(data[\"population\"].median(), inplace=True)\n",
        "\n",
        "##Think before considering amount_tsh - this has  0.0  :70.099327%\n",
        "data[\"amount_tsh\"].fillna(data.groupby(['region', 'district_code'])[\"amount_tsh\"].transform(\"median\"), inplace=True)\n",
        "data[\"amount_tsh\"].fillna(data.groupby(['region'])[\"amount_tsh\"].transform(\"median\"), inplace=True)\n",
        "data[\"amount_tsh\"].fillna(data[\"amount_tsh\"].median(), inplace=True)\n",
        "\n",
        "##Fixing Null Values 34.407407%  got 0 height\n",
        "data_test[\"gps_height\"].fillna(data_test.groupby(['region', 'district_code'])[\"gps_height\"].transform(\"mean\"), inplace=True)\n",
        "data_test[\"gps_height\"].fillna(data_test.groupby(['region'])[\"gps_height\"].transform(\"mean\"), inplace=True)\n",
        "data_test[\"gps_height\"].fillna(data_test[\"gps_height\"].mean(), inplace=True)\n",
        "\n",
        "### Almost 50% 0 or 1\n",
        "data_test[\"population\"].fillna(data_test.groupby(['region', 'district_code'])[\"population\"].transform(\"median\"), inplace=True)\n",
        "data_test[\"population\"].fillna(data_test.groupby(['region'])[\"population\"].transform(\"median\"), inplace=True)\n",
        "data_test[\"population\"].fillna(data_test[\"population\"].median(), inplace=True)\n",
        "\n",
        "##Think before considering amount_tsh - this has  0.0  :70.099327%\n",
        "data_test[\"amount_tsh\"].fillna(data_test.groupby(['region', 'district_code'])[\"amount_tsh\"].transform(\"median\"), inplace=True)\n",
        "data_test[\"amount_tsh\"].fillna(data_test.groupby(['region'])[\"amount_tsh\"].transform(\"median\"), inplace=True)\n",
        "data_test[\"amount_tsh\"].fillna(data_test[\"amount_tsh\"].median(), inplace=True)"
      ],
      "execution_count": 0,
      "outputs": []
    },
    {
      "cell_type": "code",
      "metadata": {
        "id": "GjaXBeQ_Set4",
        "colab_type": "code",
        "colab": {
          "base_uri": "https://localhost:8080/",
          "height": 67
        },
        "outputId": "750a4447-dae3-4717-9fac-15815daee3ec"
      },
      "source": [
        "data[data['population'] == 0]"
      ],
      "execution_count": 24,
      "outputs": [
        {
          "output_type": "execute_result",
          "data": {
            "text/html": [
              "<div>\n",
              "<style scoped>\n",
              "    .dataframe tbody tr th:only-of-type {\n",
              "        vertical-align: middle;\n",
              "    }\n",
              "\n",
              "    .dataframe tbody tr th {\n",
              "        vertical-align: top;\n",
              "    }\n",
              "\n",
              "    .dataframe thead th {\n",
              "        text-align: right;\n",
              "    }\n",
              "</style>\n",
              "<table border=\"1\" class=\"dataframe\">\n",
              "  <thead>\n",
              "    <tr style=\"text-align: right;\">\n",
              "      <th></th>\n",
              "      <th>id</th>\n",
              "      <th>status_group</th>\n",
              "      <th>amount_tsh</th>\n",
              "      <th>funder</th>\n",
              "      <th>gps_height</th>\n",
              "      <th>installer</th>\n",
              "      <th>longitude</th>\n",
              "      <th>latitude</th>\n",
              "      <th>wpt_name</th>\n",
              "      <th>basin</th>\n",
              "      <th>subvillage</th>\n",
              "      <th>region</th>\n",
              "      <th>region_code</th>\n",
              "      <th>district_code</th>\n",
              "      <th>lga</th>\n",
              "      <th>ward</th>\n",
              "      <th>population</th>\n",
              "      <th>public_meeting</th>\n",
              "      <th>scheme_management</th>\n",
              "      <th>scheme_name</th>\n",
              "      <th>permit</th>\n",
              "      <th>extraction_type</th>\n",
              "      <th>extraction_type_group</th>\n",
              "      <th>extraction_type_class</th>\n",
              "      <th>management</th>\n",
              "      <th>management_group</th>\n",
              "      <th>payment_type</th>\n",
              "      <th>water_quality</th>\n",
              "      <th>quantity</th>\n",
              "      <th>source</th>\n",
              "      <th>waterpoint_type</th>\n",
              "      <th>waterpoint_type_group</th>\n",
              "      <th>operational_year</th>\n",
              "    </tr>\n",
              "  </thead>\n",
              "  <tbody>\n",
              "  </tbody>\n",
              "</table>\n",
              "</div>"
            ],
            "text/plain": [
              "Empty DataFrame\n",
              "Columns: [id, status_group, amount_tsh, funder, gps_height, installer, longitude, latitude, wpt_name, basin, subvillage, region, region_code, district_code, lga, ward, population, public_meeting, scheme_management, scheme_name, permit, extraction_type, extraction_type_group, extraction_type_class, management, management_group, payment_type, water_quality, quantity, source, waterpoint_type, waterpoint_type_group, operational_year]\n",
              "Index: []"
            ]
          },
          "metadata": {
            "tags": []
          },
          "execution_count": 24
        }
      ]
    },
    {
      "cell_type": "markdown",
      "metadata": {
        "id": "9bOYBBc8K8e-",
        "colab_type": "text"
      },
      "source": [
        "### Recheck with extraction_type_class"
      ]
    },
    {
      "cell_type": "code",
      "metadata": {
        "id": "yRktnOXgLfyj",
        "colab_type": "code",
        "outputId": "bcdfca8e-883c-4da7-acc2-229473048a2f",
        "colab": {
          "base_uri": "https://localhost:8080/",
          "height": 504
        }
      },
      "source": [
        "print(data.groupby(['extraction_type_group','extraction_type_class','extraction_type']).size()   )   \n",
        "data.drop('extraction_type_group',axis=1,inplace=True)\n",
        "data.drop('extraction_type_class',axis=1,inplace=True)\n",
        "\n",
        "data_test.drop('extraction_type_group',axis=1,inplace=True)\n",
        "data_test.drop('extraction_type_class',axis=1,inplace=True)\n",
        "\n",
        "print(data.groupby(['waterpoint_type', 'waterpoint_type_group']).size())\n",
        "data.drop('waterpoint_type_group',axis=1,inplace=True)\n",
        "data.drop('wpt_name',axis=1,inplace=True)\n",
        "\n",
        "data_test.drop('waterpoint_type_group',axis=1,inplace=True)\n",
        "data_test.drop('wpt_name',axis=1,inplace=True)"
      ],
      "execution_count": 25,
      "outputs": [
        {
          "output_type": "stream",
          "text": [
            "extraction_type_group  extraction_type_class  extraction_type          \n",
            "afridev                handpump               afridev                       1770\n",
            "gravity                gravity                gravity                      26780\n",
            "india mark ii          handpump               india mark ii                 2400\n",
            "india mark iii         handpump               india mark iii                  98\n",
            "mono                   motorpump              mono                          2865\n",
            "nira/tanira            handpump               nira/tanira                   8154\n",
            "other                  other                  other                         6430\n",
            "other handpump         handpump               other - mkulima/shinyanga        2\n",
            "                                              other - play pump               85\n",
            "                                              other - swn 81                 229\n",
            "                                              walimi                          48\n",
            "other motorpump        motorpump              cemo                            90\n",
            "                                              climax                          32\n",
            "rope pump              rope pump              other - rope pump              451\n",
            "submersible            submersible            ksb                           1415\n",
            "                                              submersible                   4764\n",
            "swn 80                 handpump               swn 80                        3670\n",
            "wind-powered           wind-powered           windmill                       117\n",
            "dtype: int64\n",
            "waterpoint_type              waterpoint_type_group\n",
            "cattle trough                cattle trough              116\n",
            "communal standpipe           communal standpipe       28522\n",
            "communal standpipe multiple  communal standpipe        6103\n",
            "dam                          dam                          7\n",
            "hand pump                    hand pump                17488\n",
            "improved spring              improved spring            784\n",
            "other                        other                     6380\n",
            "dtype: int64\n"
          ],
          "name": "stdout"
        }
      ]
    },
    {
      "cell_type": "markdown",
      "metadata": {
        "id": "Dc4sRYf6LsTi",
        "colab_type": "text"
      },
      "source": [
        "### 2.1.4. Pump Location:"
      ]
    },
    {
      "cell_type": "code",
      "metadata": {
        "id": "miBTUnpWMQRI",
        "colab_type": "code",
        "outputId": "e38aef4c-e232-48d2-e641-63121adafe14",
        "colab": {
          "base_uri": "https://localhost:8080/",
          "height": 588
        }
      },
      "source": [
        "#looking at regions\n",
        "plt.figure(figsize=(24, 9))\n",
        "sns.countplot(data=data,x='region',hue='status_group')"
      ],
      "execution_count": 26,
      "outputs": [
        {
          "output_type": "execute_result",
          "data": {
            "text/plain": [
              "<matplotlib.axes._subplots.AxesSubplot at 0x7f8cb02e7e48>"
            ]
          },
          "metadata": {
            "tags": []
          },
          "execution_count": 26
        },
        {
          "output_type": "display_data",
          "data": {
            "image/png": "[encoded data removed]",
            "text/plain": [
              "<Figure size 1728x648 with 1 Axes>"
            ]
          },
          "metadata": {
            "tags": []
          }
        }
      ]
    },
    {
      "cell_type": "markdown",
      "metadata": {
        "id": "6_2ioxFCAKr_",
        "colab_type": "text"
      },
      "source": [
        "### Note: Converting geolocation data into zones"
      ]
    },
    {
      "cell_type": "code",
      "metadata": {
        "id": "Eod8221aMzzp",
        "colab_type": "code",
        "colab": {}
      },
      "source": [
        "data['longitude'].replace(0.0, np.nan, inplace=True)\n",
        "data['latitude'].replace(0.0, np.nan, inplace=True)\n",
        "data[\"latitude\"].fillna(data.groupby(['region', 'district_code'])[\"latitude\"].transform(\"mean\"), inplace=True)\n",
        "data[\"longitude\"].fillna(data.groupby(['region', 'district_code'])[\"longitude\"].transform(\"mean\"), inplace=True)\n",
        "data[\"longitude\"].fillna(data.groupby(['region'])[\"longitude\"].transform(\"mean\"), inplace=True)\n",
        "\n",
        "data_test['longitude'].replace(0.0, np.nan, inplace=True)\n",
        "data_test['latitude'].replace(0.0, np.nan, inplace=True)\n",
        "data_test[\"latitude\"].fillna(data_test.groupby(['region', 'district_code'])[\"latitude\"].transform(\"mean\"), inplace=True)\n",
        "data_test[\"longitude\"].fillna(data_test.groupby(['region', 'district_code'])[\"longitude\"].transform(\"mean\"), inplace=True)\n",
        "data_test[\"longitude\"].fillna(data_test.groupby(['region'])[\"longitude\"].transform(\"mean\"), inplace=True)"
      ],
      "execution_count": 0,
      "outputs": []
    },
    {
      "cell_type": "code",
      "metadata": {
        "id": "0QJqbErR6U9H",
        "colab_type": "code",
        "outputId": "3979362d-b857-4374-8e19-153e7f9803e5",
        "colab": {
          "base_uri": "https://localhost:8080/",
          "height": 235
        }
      },
      "source": [
        "waste_features=['subvillage','region_code']\n",
        "#since region and region_code are representing the same thing\n",
        "data.drop(waste_features,axis=1,inplace=True)\n",
        "data_test.drop(waste_features,axis=1,inplace=True)\n",
        "\n",
        "print(data.groupby(['lga', 'ward','status_group']).size())\n",
        "data.drop('ward',axis=1,inplace=True)\n",
        "data_test.drop('ward',axis=1,inplace=True)"
      ],
      "execution_count": 28,
      "outputs": [
        {
          "output_type": "stream",
          "text": [
            "lga           ward     status_group           \n",
            "arusha rural  bangata  functional                 21\n",
            "                       functional needs repair     2\n",
            "                       non functional             10\n",
            "              bwawani  functional                 12\n",
            "                       non functional             25\n",
            "                                                  ..\n",
            "uyui          ufuluma  non functional             10\n",
            "              upuge    functional                  7\n",
            "                       non functional             11\n",
            "              usagali  functional                  8\n",
            "                       non functional             17\n",
            "Length: 5070, dtype: int64\n"
          ],
          "name": "stdout"
        }
      ]
    },
    {
      "cell_type": "markdown",
      "metadata": {
        "id": "yp9sM076NS4O",
        "colab_type": "text"
      },
      "source": [
        "### 2.1.5. Pump Management:"
      ]
    },
    {
      "cell_type": "code",
      "metadata": {
        "id": "DYVg8E23N4kI",
        "colab_type": "code",
        "outputId": "97e152f9-5aff-4dd0-8868-835e5f02bbfd",
        "colab": {
          "base_uri": "https://localhost:8080/",
          "height": 589
        }
      },
      "source": [
        "plt.figure(figsize=(24, 9))\n",
        "sns.countplot(data=data,x='public_meeting',hue='status_group')"
      ],
      "execution_count": 29,
      "outputs": [
        {
          "output_type": "execute_result",
          "data": {
            "text/plain": [
              "<matplotlib.axes._subplots.AxesSubplot at 0x7f8cb89d46d8>"
            ]
          },
          "metadata": {
            "tags": []
          },
          "execution_count": 29
        },
        {
          "output_type": "display_data",
          "data": {
            "image/png": "[encoded data removed]",
            "text/plain": [
              "<Figure size 1728x648 with 1 Axes>"
            ]
          },
          "metadata": {
            "tags": []
          }
        }
      ]
    },
    {
      "cell_type": "code",
      "metadata": {
        "id": "MqjQahA-MhWR",
        "colab_type": "code",
        "outputId": "fcacc7db-7e8a-4a2b-c116-70439c79ecf2",
        "colab": {
          "base_uri": "https://localhost:8080/",
          "height": 689
        }
      },
      "source": [
        "data['funder'].replace(\"0\", np.nan, inplace=True)\n",
        "data['funder'].replace(\"nan\", np.nan, inplace=True)\n",
        "data['scheme_management'].replace(0, np.nan, inplace=True)\n",
        "data['scheme_management'].replace(\"nan\", np.nan, inplace=True)\n",
        "data[\"funder\"].fillna(\"other\", inplace=True)\n",
        "data[\"scheme_management\"].fillna(\"other\", inplace=True)\n",
        "data[\"installer\"].fillna(\"other\", inplace=True)\n",
        "\n",
        "data_test['funder'].replace(\"0\", np.nan, inplace=True)\n",
        "data_test['funder'].replace(\"nan\", np.nan, inplace=True)\n",
        "data_test['scheme_management'].replace(0, np.nan, inplace=True)\n",
        "data_test['scheme_management'].replace(\"nan\", np.nan, inplace=True)\n",
        "data_test[\"funder\"].fillna(\"other\", inplace=True)\n",
        "data_test[\"scheme_management\"].fillna(\"other\", inplace=True)\n",
        "data_test[\"installer\"].fillna(\"other\", inplace=True)\n",
        "\n",
        "\n",
        "print(data.groupby(['management', 'management_group']).size() )\n",
        "data.drop('management_group',axis=1,inplace=True)\n",
        "data_test.drop('management_group',axis=1,inplace=True)\n",
        "\n",
        "print(data.groupby(['scheme_management', 'scheme_name']).size())\n",
        "data.drop('scheme_name',axis=1,inplace=True)\n",
        "data_test.drop('scheme_name',axis=1,inplace=True)\n",
        "\n",
        "print(data.groupby(['installer', 'funder','status_group']).size())\n",
        "data.drop('installer',axis=1,inplace=True)\n",
        "data.drop('public_meeting', axis=1, inplace=True)\n",
        "data.drop('permit', axis=1, inplace=True)\n",
        "\n",
        "data_test.drop('installer',axis=1,inplace=True)\n",
        "data_test.drop('public_meeting', axis=1, inplace=True)\n",
        "data_test.drop('permit', axis=1, inplace=True)"
      ],
      "execution_count": 30,
      "outputs": [
        {
          "output_type": "stream",
          "text": [
            "management        management_group\n",
            "company           commercial            685\n",
            "other             other                 844\n",
            "other - school    other                  99\n",
            "parastatal        parastatal           1768\n",
            "private operator  commercial           1971\n",
            "trust             commercial             78\n",
            "unknown           unknown               561\n",
            "vwc               user-group          40507\n",
            "water authority   commercial            904\n",
            "water board       user-group           2933\n",
            "wua               user-group           2535\n",
            "wug               user-group           6515\n",
            "dtype: int64\n",
            "scheme_management  scheme_name                     \n",
            "company            bagamoyo wate                       270\n",
            "                   bffs                                  1\n",
            "                   borehole                              1\n",
            "                   borehole drilling project             1\n",
            "                   bulamba piped scheme                  2\n",
            "                                                      ... \n",
            "wug                vikindu water supply                  2\n",
            "                   water pipe scheme                     2\n",
            "                   water project mbawala chini          14\n",
            "                   water sector development program      5\n",
            "                   windmili system                       1\n",
            "Length: 3082, dtype: int64\n",
            "installer            funder                  status_group           \n",
            "-                    government of tanzania  functional                   1\n",
            "                                             non functional               1\n",
            "                     kalebejo parish         functional                   1\n",
            "0                    other                   functional                 445\n",
            "                                             functional needs repair      3\n",
            "                                                                       ... \n",
            "zao water spring     zao water spring        functional                   3\n",
            "zao water spring x   zao water spring x      non functional               1\n",
            "zinduka              zinduka                 functional                   1\n",
            "zingibali secondary  zingibali secondary     functional                   1\n",
            "zuber mihungo        private individual      non functional               1\n",
            "Length: 5004, dtype: int64\n"
          ],
          "name": "stdout"
        }
      ]
    },
    {
      "cell_type": "code",
      "metadata": {
        "id": "XpKGrgl8o4cR",
        "colab_type": "code",
        "colab": {
          "base_uri": "https://localhost:8080/",
          "height": 195
        },
        "outputId": "3da1d35c-fefe-4bad-abe2-1b0c1bd0eedf"
      },
      "source": [
        "features=['amount_tsh', 'gps_height', 'population']\n",
        "scaler = MinMaxScaler(feature_range=(0,20))\n",
        "data[features] = scaler.fit_transform(data[features])\n",
        "data_test[features] = scaler.fit_transform(data_test[features])\n",
        "data[features].head(5)"
      ],
      "execution_count": 35,
      "outputs": [
        {
          "output_type": "execute_result",
          "data": {
            "text/html": [
              "<div>\n",
              "<style scoped>\n",
              "    .dataframe tbody tr th:only-of-type {\n",
              "        vertical-align: middle;\n",
              "    }\n",
              "\n",
              "    .dataframe tbody tr th {\n",
              "        vertical-align: top;\n",
              "    }\n",
              "\n",
              "    .dataframe thead th {\n",
              "        text-align: right;\n",
              "    }\n",
              "</style>\n",
              "<table border=\"1\" class=\"dataframe\">\n",
              "  <thead>\n",
              "    <tr style=\"text-align: right;\">\n",
              "      <th></th>\n",
              "      <th>amount_tsh</th>\n",
              "      <th>gps_height</th>\n",
              "      <th>population</th>\n",
              "    </tr>\n",
              "  </thead>\n",
              "  <tbody>\n",
              "    <tr>\n",
              "      <th>0</th>\n",
              "      <td>0.342846</td>\n",
              "      <td>10.349650</td>\n",
              "      <td>0.070822</td>\n",
              "    </tr>\n",
              "    <tr>\n",
              "      <th>1</th>\n",
              "      <td>0.011417</td>\n",
              "      <td>10.412587</td>\n",
              "      <td>0.182957</td>\n",
              "    </tr>\n",
              "    <tr>\n",
              "      <th>2</th>\n",
              "      <td>0.001417</td>\n",
              "      <td>5.426573</td>\n",
              "      <td>0.163284</td>\n",
              "    </tr>\n",
              "    <tr>\n",
              "      <th>3</th>\n",
              "      <td>0.002846</td>\n",
              "      <td>2.468531</td>\n",
              "      <td>0.037378</td>\n",
              "    </tr>\n",
              "    <tr>\n",
              "      <th>4</th>\n",
              "      <td>0.014274</td>\n",
              "      <td>8.024794</td>\n",
              "      <td>0.130496</td>\n",
              "    </tr>\n",
              "  </tbody>\n",
              "</table>\n",
              "</div>"
            ],
            "text/plain": [
              "   amount_tsh  gps_height  population\n",
              "0    0.342846   10.349650    0.070822\n",
              "1    0.011417   10.412587    0.182957\n",
              "2    0.001417    5.426573    0.163284\n",
              "3    0.002846    2.468531    0.037378\n",
              "4    0.014274    8.024794    0.130496"
            ]
          },
          "metadata": {
            "tags": []
          },
          "execution_count": 35
        }
      ]
    },
    {
      "cell_type": "code",
      "metadata": {
        "id": "_xxk_s0DNouw",
        "colab_type": "code",
        "outputId": "9bbfc7f4-f0f7-4327-f9db-f117f45cfda4",
        "colab": {
          "base_uri": "https://localhost:8080/",
          "height": 1000
        }
      },
      "source": [
        "print(data.isnull().sum())\n",
        "print(data.isna().sum())\n",
        "data.info()\n",
        "data.quantity.head(5)\n",
        "pd.DataFrame(data).to_csv(\"clean.csv\", index=False)"
      ],
      "execution_count": 36,
      "outputs": [
        {
          "output_type": "stream",
          "text": [
            "id                   0\n",
            "status_group         0\n",
            "amount_tsh           0\n",
            "funder               0\n",
            "gps_height           0\n",
            "longitude            0\n",
            "latitude             0\n",
            "basin                0\n",
            "region               0\n",
            "district_code        0\n",
            "lga                  0\n",
            "population           0\n",
            "scheme_management    0\n",
            "extraction_type      0\n",
            "management           0\n",
            "payment_type         0\n",
            "water_quality        0\n",
            "quantity             0\n",
            "source               0\n",
            "waterpoint_type      0\n",
            "operational_year     0\n",
            "dtype: int64\n",
            "id                   0\n",
            "status_group         0\n",
            "amount_tsh           0\n",
            "funder               0\n",
            "gps_height           0\n",
            "longitude            0\n",
            "latitude             0\n",
            "basin                0\n",
            "region               0\n",
            "district_code        0\n",
            "lga                  0\n",
            "population           0\n",
            "scheme_management    0\n",
            "extraction_type      0\n",
            "management           0\n",
            "payment_type         0\n",
            "water_quality        0\n",
            "quantity             0\n",
            "source               0\n",
            "waterpoint_type      0\n",
            "operational_year     0\n",
            "dtype: int64\n",
            "<class 'pandas.core.frame.DataFrame'>\n",
            "Int64Index: 59400 entries, 0 to 59399\n",
            "Data columns (total 21 columns):\n",
            "id                   59400 non-null int64\n",
            "status_group         59400 non-null object\n",
            "amount_tsh           59400 non-null float64\n",
            "funder               59400 non-null object\n",
            "gps_height           59400 non-null float64\n",
            "longitude            59400 non-null float64\n",
            "latitude             59400 non-null float64\n",
            "basin                59400 non-null object\n",
            "region               59400 non-null object\n",
            "district_code        59400 non-null int64\n",
            "lga                  59400 non-null object\n",
            "population           59400 non-null float64\n",
            "scheme_management    59400 non-null object\n",
            "extraction_type      59400 non-null object\n",
            "management           59400 non-null object\n",
            "payment_type         59400 non-null object\n",
            "water_quality        59400 non-null object\n",
            "quantity             59400 non-null object\n",
            "source               59400 non-null object\n",
            "waterpoint_type      59400 non-null object\n",
            "operational_year     59400 non-null float64\n",
            "dtypes: float64(6), int64(2), object(13)\n",
            "memory usage: 12.5+ MB\n"
          ],
          "name": "stdout"
        }
      ]
    },
    {
      "cell_type": "code",
      "metadata": {
        "id": "FEdkfE1sSwxD",
        "colab_type": "code",
        "colab": {
          "base_uri": "https://localhost:8080/",
          "height": 623
        },
        "outputId": "ddfcd2dc-1644-4072-8e05-4292df1a7bac"
      },
      "source": [
        "data[data['population'] == 0.0]"
      ],
      "execution_count": 37,
      "outputs": [
        {
          "output_type": "execute_result",
          "data": {
            "text/html": [
              "<div>\n",
              "<style scoped>\n",
              "    .dataframe tbody tr th:only-of-type {\n",
              "        vertical-align: middle;\n",
              "    }\n",
              "\n",
              "    .dataframe tbody tr th {\n",
              "        vertical-align: top;\n",
              "    }\n",
              "\n",
              "    .dataframe thead th {\n",
              "        text-align: right;\n",
              "    }\n",
              "</style>\n",
              "<table border=\"1\" class=\"dataframe\">\n",
              "  <thead>\n",
              "    <tr style=\"text-align: right;\">\n",
              "      <th></th>\n",
              "      <th>id</th>\n",
              "      <th>status_group</th>\n",
              "      <th>amount_tsh</th>\n",
              "      <th>funder</th>\n",
              "      <th>gps_height</th>\n",
              "      <th>longitude</th>\n",
              "      <th>latitude</th>\n",
              "      <th>basin</th>\n",
              "      <th>region</th>\n",
              "      <th>district_code</th>\n",
              "      <th>lga</th>\n",
              "      <th>population</th>\n",
              "      <th>scheme_management</th>\n",
              "      <th>extraction_type</th>\n",
              "      <th>management</th>\n",
              "      <th>payment_type</th>\n",
              "      <th>water_quality</th>\n",
              "      <th>quantity</th>\n",
              "      <th>source</th>\n",
              "      <th>waterpoint_type</th>\n",
              "      <th>operational_year</th>\n",
              "    </tr>\n",
              "  </thead>\n",
              "  <tbody>\n",
              "    <tr>\n",
              "      <th>5</th>\n",
              "      <td>9944</td>\n",
              "      <td>functional</td>\n",
              "      <td>0.001131</td>\n",
              "      <td>mkinga distric coun</td>\n",
              "      <td>5.356490</td>\n",
              "      <td>39.172796</td>\n",
              "      <td>-4.765587</td>\n",
              "      <td>pangani</td>\n",
              "      <td>tanga</td>\n",
              "      <td>8</td>\n",
              "      <td>mkinga</td>\n",
              "      <td>0.0</td>\n",
              "      <td>vwc</td>\n",
              "      <td>submersible</td>\n",
              "      <td>vwc</td>\n",
              "      <td>per bucket</td>\n",
              "      <td>salty</td>\n",
              "      <td>enough</td>\n",
              "      <td>other</td>\n",
              "      <td>communal standpipe multiple</td>\n",
              "      <td>2.0</td>\n",
              "    </tr>\n",
              "    <tr>\n",
              "      <th>13</th>\n",
              "      <td>50495</td>\n",
              "      <td>functional</td>\n",
              "      <td>0.001131</td>\n",
              "      <td>lawatefuka water supply</td>\n",
              "      <td>10.195804</td>\n",
              "      <td>37.092574</td>\n",
              "      <td>-3.181783</td>\n",
              "      <td>pangani</td>\n",
              "      <td>kilimanjaro</td>\n",
              "      <td>7</td>\n",
              "      <td>siha</td>\n",
              "      <td>0.0</td>\n",
              "      <td>water board</td>\n",
              "      <td>gravity</td>\n",
              "      <td>water board</td>\n",
              "      <td>monthly</td>\n",
              "      <td>soft</td>\n",
              "      <td>enough</td>\n",
              "      <td>spring</td>\n",
              "      <td>communal standpipe</td>\n",
              "      <td>4.0</td>\n",
              "    </tr>\n",
              "    <tr>\n",
              "      <th>19</th>\n",
              "      <td>18274</td>\n",
              "      <td>functional</td>\n",
              "      <td>0.028560</td>\n",
              "      <td>danida</td>\n",
              "      <td>12.958042</td>\n",
              "      <td>34.508967</td>\n",
              "      <td>-9.894412</td>\n",
              "      <td>lake nyasa</td>\n",
              "      <td>iringa</td>\n",
              "      <td>5</td>\n",
              "      <td>ludewa</td>\n",
              "      <td>0.0</td>\n",
              "      <td>vwc</td>\n",
              "      <td>gravity</td>\n",
              "      <td>vwc</td>\n",
              "      <td>annually</td>\n",
              "      <td>soft</td>\n",
              "      <td>enough</td>\n",
              "      <td>spring</td>\n",
              "      <td>communal standpipe</td>\n",
              "      <td>19.0</td>\n",
              "    </tr>\n",
              "    <tr>\n",
              "      <th>28</th>\n",
              "      <td>19685</td>\n",
              "      <td>non functional</td>\n",
              "      <td>0.571417</td>\n",
              "      <td>government of tanzania</td>\n",
              "      <td>10.720280</td>\n",
              "      <td>37.611126</td>\n",
              "      <td>-3.263526</td>\n",
              "      <td>pangani</td>\n",
              "      <td>kilimanjaro</td>\n",
              "      <td>1</td>\n",
              "      <td>rombo</td>\n",
              "      <td>0.0</td>\n",
              "      <td>company</td>\n",
              "      <td>gravity</td>\n",
              "      <td>company</td>\n",
              "      <td>monthly</td>\n",
              "      <td>soft</td>\n",
              "      <td>insufficient</td>\n",
              "      <td>spring</td>\n",
              "      <td>communal standpipe</td>\n",
              "      <td>13.0</td>\n",
              "    </tr>\n",
              "    <tr>\n",
              "      <th>29</th>\n",
              "      <td>69124</td>\n",
              "      <td>functional</td>\n",
              "      <td>0.001131</td>\n",
              "      <td>lawatefuka water supply</td>\n",
              "      <td>9.412587</td>\n",
              "      <td>37.061688</td>\n",
              "      <td>-3.191989</td>\n",
              "      <td>pangani</td>\n",
              "      <td>kilimanjaro</td>\n",
              "      <td>7</td>\n",
              "      <td>siha</td>\n",
              "      <td>0.0</td>\n",
              "      <td>water board</td>\n",
              "      <td>gravity</td>\n",
              "      <td>water board</td>\n",
              "      <td>monthly</td>\n",
              "      <td>soft</td>\n",
              "      <td>enough</td>\n",
              "      <td>spring</td>\n",
              "      <td>communal standpipe</td>\n",
              "      <td>11.0</td>\n",
              "    </tr>\n",
              "    <tr>\n",
              "      <th>...</th>\n",
              "      <td>...</td>\n",
              "      <td>...</td>\n",
              "      <td>...</td>\n",
              "      <td>...</td>\n",
              "      <td>...</td>\n",
              "      <td>...</td>\n",
              "      <td>...</td>\n",
              "      <td>...</td>\n",
              "      <td>...</td>\n",
              "      <td>...</td>\n",
              "      <td>...</td>\n",
              "      <td>...</td>\n",
              "      <td>...</td>\n",
              "      <td>...</td>\n",
              "      <td>...</td>\n",
              "      <td>...</td>\n",
              "      <td>...</td>\n",
              "      <td>...</td>\n",
              "      <td>...</td>\n",
              "      <td>...</td>\n",
              "      <td>...</td>\n",
              "    </tr>\n",
              "    <tr>\n",
              "      <th>59355</th>\n",
              "      <td>9406</td>\n",
              "      <td>non functional</td>\n",
              "      <td>0.114274</td>\n",
              "      <td>no</td>\n",
              "      <td>12.286713</td>\n",
              "      <td>31.157624</td>\n",
              "      <td>-7.740882</td>\n",
              "      <td>lake rukwa</td>\n",
              "      <td>rukwa</td>\n",
              "      <td>3</td>\n",
              "      <td>nkasi</td>\n",
              "      <td>0.0</td>\n",
              "      <td>vwc</td>\n",
              "      <td>india mark ii</td>\n",
              "      <td>vwc</td>\n",
              "      <td>unknown</td>\n",
              "      <td>unknown</td>\n",
              "      <td>enough</td>\n",
              "      <td>machine dbh</td>\n",
              "      <td>hand pump</td>\n",
              "      <td>26.0</td>\n",
              "    </tr>\n",
              "    <tr>\n",
              "      <th>59357</th>\n",
              "      <td>46563</td>\n",
              "      <td>non functional</td>\n",
              "      <td>0.002846</td>\n",
              "      <td>other</td>\n",
              "      <td>12.062937</td>\n",
              "      <td>34.971841</td>\n",
              "      <td>-5.098362</td>\n",
              "      <td>internal</td>\n",
              "      <td>singida</td>\n",
              "      <td>2</td>\n",
              "      <td>singida rural</td>\n",
              "      <td>0.0</td>\n",
              "      <td>vwc</td>\n",
              "      <td>nira/tanira</td>\n",
              "      <td>vwc</td>\n",
              "      <td>unknown</td>\n",
              "      <td>unknown</td>\n",
              "      <td>dry</td>\n",
              "      <td>shallow well</td>\n",
              "      <td>hand pump</td>\n",
              "      <td>33.0</td>\n",
              "    </tr>\n",
              "    <tr>\n",
              "      <th>59370</th>\n",
              "      <td>14796</td>\n",
              "      <td>functional</td>\n",
              "      <td>0.011417</td>\n",
              "      <td>other</td>\n",
              "      <td>8.699301</td>\n",
              "      <td>30.058731</td>\n",
              "      <td>-4.902633</td>\n",
              "      <td>lake tanganyika</td>\n",
              "      <td>kigoma</td>\n",
              "      <td>2</td>\n",
              "      <td>kasulu</td>\n",
              "      <td>0.0</td>\n",
              "      <td>other</td>\n",
              "      <td>other</td>\n",
              "      <td>unknown</td>\n",
              "      <td>monthly</td>\n",
              "      <td>unknown</td>\n",
              "      <td>unknown</td>\n",
              "      <td>unknown</td>\n",
              "      <td>other</td>\n",
              "      <td>15.0</td>\n",
              "    </tr>\n",
              "    <tr>\n",
              "      <th>59376</th>\n",
              "      <td>34716</td>\n",
              "      <td>non functional</td>\n",
              "      <td>0.002846</td>\n",
              "      <td>other</td>\n",
              "      <td>11.685315</td>\n",
              "      <td>34.821039</td>\n",
              "      <td>-5.076258</td>\n",
              "      <td>internal</td>\n",
              "      <td>singida</td>\n",
              "      <td>2</td>\n",
              "      <td>singida rural</td>\n",
              "      <td>0.0</td>\n",
              "      <td>vwc</td>\n",
              "      <td>other</td>\n",
              "      <td>vwc</td>\n",
              "      <td>unknown</td>\n",
              "      <td>unknown</td>\n",
              "      <td>dry</td>\n",
              "      <td>shallow well</td>\n",
              "      <td>other</td>\n",
              "      <td>23.0</td>\n",
              "    </tr>\n",
              "    <tr>\n",
              "      <th>59382</th>\n",
              "      <td>47002</td>\n",
              "      <td>non functional</td>\n",
              "      <td>0.000331</td>\n",
              "      <td>ces(gmbh)</td>\n",
              "      <td>10.300699</td>\n",
              "      <td>37.454759</td>\n",
              "      <td>-3.323599</td>\n",
              "      <td>pangani</td>\n",
              "      <td>kilimanjaro</td>\n",
              "      <td>4</td>\n",
              "      <td>moshi rural</td>\n",
              "      <td>0.0</td>\n",
              "      <td>water board</td>\n",
              "      <td>gravity</td>\n",
              "      <td>water board</td>\n",
              "      <td>per bucket</td>\n",
              "      <td>soft</td>\n",
              "      <td>enough</td>\n",
              "      <td>spring</td>\n",
              "      <td>communal standpipe</td>\n",
              "      <td>5.0</td>\n",
              "    </tr>\n",
              "  </tbody>\n",
              "</table>\n",
              "<p>7028 rows × 21 columns</p>\n",
              "</div>"
            ],
            "text/plain": [
              "          id    status_group  ...              waterpoint_type operational_year\n",
              "5       9944      functional  ...  communal standpipe multiple              2.0\n",
              "13     50495      functional  ...           communal standpipe              4.0\n",
              "19     18274      functional  ...           communal standpipe             19.0\n",
              "28     19685  non functional  ...           communal standpipe             13.0\n",
              "29     69124      functional  ...           communal standpipe             11.0\n",
              "...      ...             ...  ...                          ...              ...\n",
              "59355   9406  non functional  ...                    hand pump             26.0\n",
              "59357  46563  non functional  ...                    hand pump             33.0\n",
              "59370  14796      functional  ...                        other             15.0\n",
              "59376  34716  non functional  ...                        other             23.0\n",
              "59382  47002  non functional  ...           communal standpipe              5.0\n",
              "\n",
              "[7028 rows x 21 columns]"
            ]
          },
          "metadata": {
            "tags": []
          },
          "execution_count": 37
        }
      ]
    },
    {
      "cell_type": "code",
      "metadata": {
        "id": "8xt0qaGX43XD",
        "colab_type": "code",
        "outputId": "24cc2488-7dc1-47ae-888d-07d85cd60d47",
        "colab": {
          "base_uri": "https://localhost:8080/",
          "height": 790
        }
      },
      "source": [
        "print(data_test.isnull().sum())\n",
        "data_test.info()\n",
        "data_test.quantity.head(5)\n",
        "pd.DataFrame(data_test).to_csv(\"clean_test.csv\", index=False)"
      ],
      "execution_count": 38,
      "outputs": [
        {
          "output_type": "stream",
          "text": [
            "id                   0\n",
            "amount_tsh           0\n",
            "funder               0\n",
            "gps_height           0\n",
            "longitude            0\n",
            "latitude             0\n",
            "basin                0\n",
            "region               0\n",
            "district_code        0\n",
            "lga                  0\n",
            "population           0\n",
            "scheme_management    0\n",
            "extraction_type      0\n",
            "management           0\n",
            "payment_type         0\n",
            "water_quality        0\n",
            "quantity             0\n",
            "source               0\n",
            "waterpoint_type      0\n",
            "operational_year     0\n",
            "dtype: int64\n",
            "<class 'pandas.core.frame.DataFrame'>\n",
            "RangeIndex: 14850 entries, 0 to 14849\n",
            "Data columns (total 20 columns):\n",
            "id                   14850 non-null int64\n",
            "amount_tsh           14850 non-null float64\n",
            "funder               14850 non-null object\n",
            "gps_height           14850 non-null float64\n",
            "longitude            14850 non-null float64\n",
            "latitude             14850 non-null float64\n",
            "basin                14850 non-null object\n",
            "region               14850 non-null object\n",
            "district_code        14850 non-null int64\n",
            "lga                  14850 non-null object\n",
            "population           14850 non-null float64\n",
            "scheme_management    14850 non-null object\n",
            "extraction_type      14850 non-null object\n",
            "management           14850 non-null object\n",
            "payment_type         14850 non-null object\n",
            "water_quality        14850 non-null object\n",
            "quantity             14850 non-null object\n",
            "source               14850 non-null object\n",
            "waterpoint_type      14850 non-null object\n",
            "operational_year     14850 non-null float64\n",
            "dtypes: float64(6), int64(2), object(12)\n",
            "memory usage: 2.3+ MB\n"
          ],
          "name": "stdout"
        }
      ]
    }
  ]
}