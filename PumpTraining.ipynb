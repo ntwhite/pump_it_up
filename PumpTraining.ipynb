{
  "nbformat": 4,
  "nbformat_minor": 0,
  "metadata": {
    "kernelspec": {
      "display_name": "Python 3",
      "language": "python",
      "name": "python3"
    },
    "language_info": {
      "codemirror_mode": {
        "name": "ipython",
        "version": 3
      },
      "file_extension": ".py",
      "mimetype": "text/x-python",
      "name": "python",
      "nbconvert_exporter": "python",
      "pygments_lexer": "ipython3",
      "version": "3.6.5"
    },
    "colab": {
      "name": "PumpTraining.ipynb",
      "provenance": [],
      "collapsed_sections": []
    }
  },
  "cells": [
    {
      "cell_type": "code",
      "metadata": {
        "id": "FyATDOIH0pb7",
        "colab_type": "code",
        "outputId": "394824ea-f0b4-42f3-aa73-a0700be7ece9",
        "colab": {
          "base_uri": "https://localhost:8080/",
          "height": 34
        }
      },
      "source": [
        "!git clone https://github.com/aim-hackathon-2020/pump_prediction.git"
      ],
      "execution_count": 1,
      "outputs": [
        {
          "output_type": "stream",
          "text": [
            "fatal: destination path 'pump_prediction' already exists and is not an empty directory.\n"
          ],
          "name": "stdout"
        }
      ]
    },
    {
      "cell_type": "code",
      "metadata": {
        "id": "WK8Ktr44OklG",
        "colab_type": "code",
        "colab": {}
      },
      "source": [
        "# importing our favorite libraries\n",
        "import numpy as np\n",
        "import pandas as pd\n",
        "\n",
        "from sklearn.model_selection import train_test_split\n",
        "from sklearn.metrics import f1_score,accuracy_score"
      ],
      "execution_count": 0,
      "outputs": []
    },
    {
      "cell_type": "markdown",
      "metadata": {
        "id": "xuOL3acO3P1s",
        "colab_type": "text"
      },
      "source": [
        "### Load Cleaned Data and Create Model Input Format"
      ]
    },
    {
      "cell_type": "code",
      "metadata": {
        "id": "dSa8H9L8OklR",
        "colab_type": "code",
        "colab": {
          "base_uri": "https://localhost:8080/",
          "height": 34
        },
        "outputId": "b8ca5e50-8da7-4b57-e743-c14b21f969f5"
      },
      "source": [
        "train = pd.read_csv('clean.csv')\n",
        "test = pd.read_csv('clean_test.csv')\n",
        "print(\"Train Set: \",train.shape, \" Test Set: \", test.shape)"
      ],
      "execution_count": 3,
      "outputs": [
        {
          "output_type": "stream",
          "text": [
            "Train Set:  (59400, 21)  Test Set:  (14850, 20)\n"
          ],
          "name": "stdout"
        }
      ]
    },
    {
      "cell_type": "code",
      "metadata": {
        "id": "oI58CV1XxOcS",
        "colab_type": "code",
        "colab": {}
      },
      "source": [
        "resam = train.copy()\n",
        "x1 = train[train[\"status_group\"] == \"functional needs repair\"]\n",
        "x2 = train[train[\"status_group\"] == \"functional\"]\n",
        "x3 = train[train[\"status_group\"] == \"non functional\"]\n",
        "x2 = x2.sample(frac=1).reset_index(drop=True)\n",
        "x3 = x3.sample(frac=1).reset_index(drop=True)\n",
        "undersampled = pd.concat([x1, x2.head(4317), x3.head(4317)])"
      ],
      "execution_count": 0,
      "outputs": []
    },
    {
      "cell_type": "code",
      "metadata": {
        "id": "iIshuPOsOkmA",
        "colab_type": "code",
        "outputId": "64369bac-6fbc-4fbe-8cb5-1f767d0236f8",
        "colab": {
          "base_uri": "https://localhost:8080/",
          "height": 101
        }
      },
      "source": [
        "#drop this unnamed column \n",
        "target=train.pop('status_group')\n",
        "train['train']=1\n",
        "test['train']=0\n",
        "combined = pd.concat([train, test])\n",
        "combined['funder'] = pd.factorize(combined['funder'])[0]\n",
        "combined['scheme_management'] = pd.factorize(combined['scheme_management'])[0]\n",
        "combined['extraction_type'] = pd.factorize(combined['extraction_type'])[0]\n",
        "combined['management'] = pd.factorize(combined['management'])[0]\n",
        "combined['payment_type'] = pd.factorize(combined['payment_type'])[0]\n",
        "combined['water_quality'] = pd.factorize(combined['water_quality'])[0]\n",
        "combined['quantity'] = pd.factorize(combined['quantity'])[0]\n",
        "combined['source'] = pd.factorize(combined['source'])[0]\n",
        "combined['waterpoint_type'] = pd.factorize(combined['waterpoint_type'])[0]\n",
        "combined['basin'] = pd.factorize(combined['basin'])[0]\n",
        "combined['region'] = pd.factorize(combined['region'])[0]\n",
        "combined['lga'] = pd.factorize(combined['lga'])[0]\n",
        "combined['district_code'] = pd.factorize(combined['district_code'])[0]\n",
        "combined['operational_year'] = pd.factorize(combined['operational_year'])[0]\n",
        "train_df = combined[combined[\"train\"] == 1]\n",
        "test_df = combined[combined[\"train\"] == 0]\n",
        "train_df.drop([\"train\"], axis=1, inplace=True)\n",
        "train_df.drop(['id'],axis=1, inplace=True)\n",
        "test_df.drop([\"train\"], axis=1, inplace=True)"
      ],
      "execution_count": 5,
      "outputs": [
        {
          "output_type": "stream",
          "text": [
            "/usr/local/lib/python3.6/dist-packages/pandas/core/frame.py:4117: SettingWithCopyWarning: \n",
            "A value is trying to be set on a copy of a slice from a DataFrame\n",
            "\n",
            "See the caveats in the documentation: http://pandas.pydata.org/pandas-docs/stable/user_guide/indexing.html#returning-a-view-versus-a-copy\n",
            "  errors=errors,\n"
          ],
          "name": "stderr"
        }
      ]
    },
    {
      "cell_type": "markdown",
      "metadata": {
        "id": "IYWoMuHJ3ymo",
        "colab_type": "text"
      },
      "source": [
        "### MODEL SELECTION"
      ]
    },
    {
      "cell_type": "code",
      "metadata": {
        "id": "70RCVkD0RjGm",
        "colab_type": "code",
        "colab": {
          "base_uri": "https://localhost:8080/",
          "height": 84
        },
        "outputId": "36261787-1409-4174-adba-e5a417330c8f"
      },
      "source": [
        "from sklearn.preprocessing import StandardScaler\n",
        "from sklearn.model_selection import train_test_split\n",
        "from sklearn.metrics import accuracy_score\n",
        "from sklearn.metrics import confusion_matrix\n",
        "from sklearn.metrics import roc_curve,roc_auc_score\n",
        "from sklearn.metrics import classification_report\n",
        "from sklearn.metrics import roc_auc_score\n",
        "from sklearn.preprocessing import label_binarize\n",
        "\n",
        "#define X train\n",
        "X = train_df\n",
        "#y_train indentified at the beginning \n",
        "y = target\n",
        "X_train, X_test, y_train, y_test = train_test_split(X, y, test_size=0.33, random_state=42, stratify=y)\n",
        "y.value_counts(normalize=True)*100"
      ],
      "execution_count": 6,
      "outputs": [
        {
          "output_type": "execute_result",
          "data": {
            "text/plain": [
              "functional                 54.308081\n",
              "non functional             38.424242\n",
              "functional needs repair     7.267677\n",
              "Name: status_group, dtype: float64"
            ]
          },
          "metadata": {
            "tags": []
          },
          "execution_count": 6
        }
      ]
    },
    {
      "cell_type": "code",
      "metadata": {
        "id": "vaoXjFaEXGin",
        "colab_type": "code",
        "colab": {}
      },
      "source": [
        "cls_weights = {0:(54.30/7.26), 2:(38.42/7.26), 1:1.0}"
      ],
      "execution_count": 0,
      "outputs": []
    },
    {
      "cell_type": "code",
      "metadata": {
        "id": "nhvdwTbjOkmR",
        "colab_type": "code",
        "outputId": "9c554ded-707c-4151-af0e-3b9c39ce22d1",
        "colab": {
          "base_uri": "https://localhost:8080/",
          "height": 50
        }
      },
      "source": [
        "%%time\n",
        "from sklearn.ensemble import RandomForestClassifier\n",
        "Rforest = RandomForestClassifier(n_estimators=1000)\n",
        "Rforest.fit(X_train,y_train)"
      ],
      "execution_count": 8,
      "outputs": [
        {
          "output_type": "stream",
          "text": [
            "CPU times: user 1min 20s, sys: 967 ms, total: 1min 21s\n",
            "Wall time: 1min 21s\n"
          ],
          "name": "stdout"
        }
      ]
    },
    {
      "cell_type": "code",
      "metadata": {
        "id": "jrUpBav_MJ81",
        "colab_type": "code",
        "outputId": "4c0b8f3d-3386-43db-aca4-a8a8f14850e4",
        "colab": {
          "base_uri": "https://localhost:8080/",
          "height": 50
        }
      },
      "source": [
        "print(f1_score(y_test,Rforest.predict(X_test), average='weighted'))\n",
        "print(accuracy_score(y_test,Rforest.predict(X_test)))"
      ],
      "execution_count": 9,
      "outputs": [
        {
          "output_type": "stream",
          "text": [
            "0.8010022340484592\n",
            "0.8066523824099582\n"
          ],
          "name": "stdout"
        }
      ]
    },
    {
      "cell_type": "code",
      "metadata": {
        "id": "Dcl-A4ZNsjBb",
        "colab_type": "code",
        "colab": {
          "base_uri": "https://localhost:8080/",
          "height": 84
        },
        "outputId": "b337d6e4-c724-4437-dc12-7c2f69bf6e61"
      },
      "source": [
        "%%time\n",
        "#Algos\n",
        "from sklearn.ensemble import BaggingClassifier, ExtraTreesClassifier, RandomForestClassifier\n",
        "TunedRForest = RandomForestClassifier(criterion='entropy', n_estimators=1000)\n",
        "TunedRForest.fit(X_train,y_train)\n",
        "print(f1_score(y_test,TunedRForest.predict(X_test), average='weighted'))\n",
        "print(accuracy_score(y_test,TunedRForest.predict(X_test)))"
      ],
      "execution_count": 10,
      "outputs": [
        {
          "output_type": "stream",
          "text": [
            "0.8013631062654931\n",
            "0.8071625344352618\n",
            "CPU times: user 2min 15s, sys: 803 ms, total: 2min 16s\n",
            "Wall time: 2min 16s\n"
          ],
          "name": "stdout"
        }
      ]
    },
    {
      "cell_type": "code",
      "metadata": {
        "id": "2Ze88A5aso7h",
        "colab_type": "code",
        "colab": {
          "base_uri": "https://localhost:8080/",
          "height": 84
        },
        "outputId": "9a900944-3862-4d03-d7b1-943299c6eb70"
      },
      "source": [
        "%%time\n",
        "#Fitting Classifier to Training Set. Create a classifier object here and call it classifierObj \n",
        "ETCLassifier = ExtraTreesClassifier(criterion='entropy') \n",
        "ETCLassifier.fit(X_train,y_train)\n",
        "print(f1_score(y_test,ETCLassifier.predict(X_test), average='weighted'))\n",
        "print(accuracy_score(y_test,ETCLassifier.predict(X_test)))"
      ],
      "execution_count": 11,
      "outputs": [
        {
          "output_type": "stream",
          "text": [
            "0.7889950630287231\n",
            "0.7927762473217018\n",
            "CPU times: user 7.21 s, sys: 213 ms, total: 7.42 s\n",
            "Wall time: 7.43 s\n"
          ],
          "name": "stdout"
        }
      ]
    },
    {
      "cell_type": "code",
      "metadata": {
        "id": "qLk5d6EBOkmZ",
        "colab_type": "code",
        "outputId": "76735bb4-b504-4a57-8326-e9f505bca65c",
        "colab": {
          "base_uri": "https://localhost:8080/",
          "height": 84
        }
      },
      "source": [
        "%%time\n",
        "from xgboost import XGBClassifier\n",
        "xgb = XGBClassifier(objective = 'multi:softmax', booster = 'gbtree', nrounds = 'min.error.idx', \n",
        "                      num_class = 3, maximize = False, eval_metric = 'merror', eta = .2,\n",
        "                      max_depth = 14, colsample_bytree = .4)\n",
        "xgb.fit(X_train,y_train)\n",
        "print(f1_score(y_test,xgb.predict(X_test), average='weighted'))\n",
        "print(accuracy_score(y_test,xgb.predict(X_test)))"
      ],
      "execution_count": 12,
      "outputs": [
        {
          "output_type": "stream",
          "text": [
            "0.8049343227520531\n",
            "0.8133863891439649\n",
            "CPU times: user 30.5 s, sys: 66.9 ms, total: 30.5 s\n",
            "Wall time: 30.6 s\n"
          ],
          "name": "stdout"
        }
      ]
    },
    {
      "cell_type": "code",
      "metadata": {
        "id": "eWLnasZxvGBn",
        "colab_type": "code",
        "colab": {
          "base_uri": "https://localhost:8080/",
          "height": 50
        },
        "outputId": "4170063c-f9e5-457a-942c-5ca350c40091"
      },
      "source": [
        "from sklearn.ensemble import BaggingClassifier, ExtraTreesClassifier, RandomForestClassifier\n",
        "from sklearn.tree import DecisionTreeClassifier\n",
        "TunedBaggingC = BaggingClassifier(DecisionTreeClassifier(random_state=2, criterion='entropy', max_depth= 20))\n",
        "TunedBaggingC.fit(X_train,y_train)\n",
        "print(f1_score(y_test,TunedBaggingC.predict(X_test), average='weighted'))\n",
        "print(accuracy_score(y_test,TunedBaggingC.predict(X_test)))"
      ],
      "execution_count": 13,
      "outputs": [
        {
          "output_type": "stream",
          "text": [
            "0.7882260284936023\n",
            "0.7963473114988266\n"
          ],
          "name": "stdout"
        }
      ]
    },
    {
      "cell_type": "code",
      "metadata": {
        "id": "SC1eiDNEt2zn",
        "colab_type": "code",
        "colab": {
          "base_uri": "https://localhost:8080/",
          "height": 84
        },
        "outputId": "1b426db0-020c-443e-e491-db83e958d7a5"
      },
      "source": [
        "%%time\n",
        "from sklearn.ensemble import VotingClassifier\n",
        "\n",
        "voting_clf = VotingClassifier(\n",
        "\testimators = [('RForest', Rforest), ('xgboost', xgb)],\n",
        "\tvoting = 'hard')\n",
        "voting_clf.fit(X_train, y_train)\n",
        "print(f1_score(y_test,voting_clf.predict(X_test), average='weighted'))\n",
        "print(accuracy_score(y_test,voting_clf.predict(X_test)))"
      ],
      "execution_count": 14,
      "outputs": [
        {
          "output_type": "stream",
          "text": [
            "0.8030453478280732\n",
            "0.8125191307009488\n",
            "CPU times: user 2min 2s, sys: 844 ms, total: 2min 3s\n",
            "Wall time: 2min 3s\n"
          ],
          "name": "stdout"
        }
      ]
    },
    {
      "cell_type": "code",
      "metadata": {
        "id": "zisCQqbrj5kN",
        "colab_type": "code",
        "colab": {}
      },
      "source": [
        "test_df_feat = test_df.copy()"
      ],
      "execution_count": 0,
      "outputs": []
    },
    {
      "cell_type": "code",
      "metadata": {
        "id": "2TPOxXSPrftm",
        "colab_type": "code",
        "colab": {}
      },
      "source": [
        "a=test_df_feat.pop('id')"
      ],
      "execution_count": 0,
      "outputs": []
    },
    {
      "cell_type": "code",
      "metadata": {
        "id": "iGiA3GRjhQ7g",
        "colab_type": "code",
        "colab": {
          "base_uri": "https://localhost:8080/",
          "height": 84
        },
        "outputId": "6d1d7166-087b-4b3e-c8cf-8af70f4333cf"
      },
      "source": [
        "submission = pd.DataFrame.from_dict({\n",
        "'id': a,\n",
        "'status_group': Rforest.predict(test_df_feat)})\n",
        "submission.status_group.value_counts(normalize=True)*100"
      ],
      "execution_count": 23,
      "outputs": [
        {
          "output_type": "execute_result",
          "data": {
            "text/plain": [
              "functional                 62.269360\n",
              "non functional             33.959596\n",
              "functional needs repair     3.771044\n",
              "Name: status_group, dtype: float64"
            ]
          },
          "metadata": {
            "tags": []
          },
          "execution_count": 23
        }
      ]
    },
    {
      "cell_type": "code",
      "metadata": {
        "id": "A-aScMNmm-GM",
        "colab_type": "code",
        "colab": {
          "base_uri": "https://localhost:8080/",
          "height": 54
        },
        "outputId": "ceea027f-3db8-4cc1-d7b3-23206e797374"
      },
      "source": [
        "\n",
        "'''\n",
        "RFOREST:\n",
        "\n",
        "functional                 62.390572\n",
        "non functional             33.872054\n",
        "functional needs repair     3.737374\n",
        "\n",
        "functional                 62.269360\n",
        "non functional             33.959596\n",
        "functional needs repair     3.771044\n",
        "\n",
        "XGB:\n",
        "\n",
        "functional                 65.319865\n",
        "non functional             32.000000\n",
        "functional needs repair     2.680135\n",
        "\n",
        "'''"
      ],
      "execution_count": 18,
      "outputs": [
        {
          "output_type": "execute_result",
          "data": {
            "text/plain": [
              "'\\nRFOREST:\\n\\nfunctional                 62.390572\\nnon functional             33.872054\\nfunctional needs repair     3.737374\\n\\nXGB:\\n\\nfunctional                 65.319865\\nnon functional             32.000000\\nfunctional needs repair     2.680135\\n\\n'"
            ]
          },
          "metadata": {
            "tags": []
          },
          "execution_count": 18
        }
      ]
    },
    {
      "cell_type": "code",
      "metadata": {
        "id": "ZTvc1hhaOknY",
        "colab_type": "code",
        "colab": {}
      },
      "source": [
        "submission.to_csv(\"submission.csv\", index=False)"
      ],
      "execution_count": 0,
      "outputs": []
    }
  ]
}